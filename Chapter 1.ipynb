{
 "cells": [
  {
   "cell_type": "markdown",
   "metadata": {},
   "source": [
    "### Exercise 1.1.\n",
    "\n",
    "> Below is a sequence of expressions. What is the result printed by the interpreter in response to each expression? Assume that the sequence is to be evaluated in the order in which it is presented.\n",
    "\n",
    "> `10`\n",
    "\n",
    "10\n",
    "\n",
    "> `(+ 5 3 4)`\n",
    "\n",
    "12\n",
    "\n",
    "> `(- 9 1)`\n",
    "\n",
    "8\n",
    "\n",
    "> `(/ 6 2)`\n",
    "\n",
    "3\n",
    "\n",
    "> `(+ (* 2 4) (- 4 6))`\n",
    "\n",
    "10\n",
    "\n",
    ">```scheme\n",
    "(define a 3)\n",
    "(define b (+ a 1))\n",
    "(+ a b (* a b))\n",
    "```\n",
    "\n",
    "19\n",
    "\n",
    "\n",
    "> `(= a b)`\n",
    "\n",
    "\\#f\n",
    "\n",
    ">```scheme\n",
    "(if (and (> b a) (< b (* a b)))\n",
    "    b\n",
    "    a)\n",
    "```\n",
    "\n",
    "4\n",
    "\n",
    ">```scheme\n",
    "(cond ((= a 4) 6)\n",
    "      ((= b 4) (+ 6 7 a))\n",
    "      (else 25))\n",
    "```\n",
    "\n",
    "16\n",
    "\n",
    ">`(+ 2 (if (> b a) b a))`\n",
    "\n",
    "6\n",
    "\n",
    ">```scheme\n",
    "(* (cond ((> a b) a)\n",
    "         ((< a b) b)\n",
    "         (else -1))\n",
    "   (+ a 1))\n",
    "```\n",
    "\n",
    "16\n"
   ]
  },
  {
   "cell_type": "markdown",
   "metadata": {},
   "source": [
    "### Exercise 1.2.\n",
    "\n",
    "> Translate the following expression into prefix form\n",
    "> \n",
    "> $$\\frac{5 + 4 + \\left(2 - \\left(3 - \\left(6 + \\frac{4}{5}\\right)\\right)\\right)}{3\\left(6-2\\right)\\left(2-7\\right)}$$"
   ]
  },
  {
   "cell_type": "code",
   "execution_count": 30,
   "metadata": {
    "collapsed": false
   },
   "outputs": [
    {
     "data": {
      "text/plain": [
       "-37/150"
      ]
     },
     "execution_count": 30,
     "metadata": {},
     "output_type": "execute_result"
    }
   ],
   "source": [
    "(/ (+ 5\n",
    "      4\n",
    "      (- 2\n",
    "         (- 3 \n",
    "            (+ 6 (/ 4 5)))))\n",
    "   (* 3 \n",
    "      (- 6 2)\n",
    "      (- 2 7)))"
   ]
  },
  {
   "cell_type": "markdown",
   "metadata": {},
   "source": [
    "### Exercise 1.3.  \n",
    "\n",
    "> Define a procedure that takes three numbers as arguments and returns the sum of the squares of the two larger numbers."
   ]
  },
  {
   "cell_type": "code",
   "execution_count": 60,
   "metadata": {
    "collapsed": false
   },
   "outputs": [],
   "source": [
    "(define (square x) \n",
    "  (* x x))\n",
    "\n",
    "(define (sumSquare x y) (+ (square x) (square y)))\n",
    "\n",
    "(define (sumSquareMax x y z)\n",
    "  (cond ((and (<= x y) (<= x z)) (sumSquare y z))\n",
    "        ((and (<= y x) (<= y z)) (sumSquare x z))\n",
    "        ((and (<= z x) (<= z y)) (sumSquare x y))))"
   ]
  },
  {
   "cell_type": "markdown",
   "metadata": {},
   "source": [
    "### Exercise 1.4.  \n",
    "\n",
    "> Observe that our model of evaluation allows for combinations whose operators are compound expressions. Use this observation to describe the behavior of the following procedure:\n",
    "> \n",
    "> ```scheme\n",
    "> (define (a-plus-abs-b a b)\n",
    ">   ((if (> b 0) + -) a b))\n",
    "> ```\n",
    "\n",
    "Defines a function that takes two values. If the latter is positive, adds the two. Otherwise, subtracts the latter from the former."
   ]
  },
  {
   "cell_type": "markdown",
   "metadata": {},
   "source": [
    "### Exercise 1.5.  \n",
    "\n",
    ">Ben Bitdiddle has invented a test to determine whether the interpreter he is faced with is using applicative-order evaluation or normal-order evaluation. He defines the following two procedures:\n",
    ">\n",
    ">```scheme\n",
    ">(define (p) (p))\n",
    ">\n",
    ">(define (test x y)\n",
    ">  (if (= x 0)\n",
    ">      0\n",
    ">      y))\n",
    "> ```\n",
    "> Then he evaluates the expression\n",
    "> \n",
    "> ```scheme\n",
    "> (test 0 (p))\n",
    "> ```\n",
    "> \n",
    "> What behavior will Ben observe with an interpreter that uses applicative-order evaluation? What behavior will he observe with an interpreter that uses normal-order evaluation? Explain your answer. (Assume that the evaluation rule for the special form if is the same whether the interpreter is using normal or applicative order: The predicate expression is evaluated first, and the result determines whether to evaluate the consequent or the alternative expression.)\n",
    "\n",
    "With applicative order evaluation, Ben will observe endless recursion, as the arguments will be evaluated before the contents. With normal-order evaluation, 0 will be returned, as the infinite recursion is short-circuited."
   ]
  },
  {
   "cell_type": "markdown",
   "metadata": {},
   "source": [
    "### Exercise 1.6.  \n",
    "\n",
    "> Alyssa P. Hacker doesn't see why if needs to be provided as a special form. \"Why can't I just define it as an ordinary procedure in terms of cond?\" she asks. Alyssa's friend Eva Lu Ator claims this can indeed be done, and she defines a new version of if:\n",
    "> \n",
    "> ```scheme\n",
    "> (define (new-if predicate then-clause else-clause)\n",
    ">   (cond (predicate then-clause)\n",
    ">         (else else-clause)))\n",
    "> ```\n",
    "> \n",
    "> Eva demonstrates the program for Alyssa:\n",
    "> \n",
    "> ``` scheme\n",
    "> (new-if (= 2 3) 0 5)\n",
    "> 5\n",
    "> ```\n",
    "> \n",
    "> ```scheme \n",
    "> (new-if (= 1 1) 0 5)\n",
    "> 0\n",
    "> ```\n",
    "> \n",
    "> Delighted, Alyssa uses new-if to rewrite the square-root program:\n",
    ">\n",
    "> ```scheme\n",
    ">  (define (sqrt-iter guess x)\n",
    ">    (new-if (good-enough? guess x)\n",
    ">            guess\n",
    ">            (sqrt-iter (improve guess x)\n",
    ">                       x)))\n",
    "> ```\n",
    "\n",
    "> What happens when Alyssa attempts to use this to compute square roots? Explain.\n",
    "\n",
    "It will recurse infinitely, because the recursive call gets evaluated before the new-if procedure resolves."
   ]
  },
  {
   "cell_type": "markdown",
   "metadata": {},
   "source": [
    "### Exercise 1.7.  \n",
    "\n",
    "> The good-enough? test used in computing square roots will not be very effective for finding the square roots of very small numbers. Also, in real computers, arithmetic operations are almost always performed with limited precision. This makes our test inadequate for very large numbers. Explain these statements, with examples showing how the test fails for small and large numbers. An alternative strategy for implementing good-enough? is to watch how guess changes from one iteration to the next and to stop when the change is a very small fraction of the guess. Design a square-root procedure that uses this kind of end test. Does this work better for small and large numbers?\n",
    "\n",
    "For very small numbers, the problem is that the tolerance may actually be larger than the number itself, and the algorithm doesn't run enough iterations to converge.\n",
    "\n"
   ]
  },
  {
   "cell_type": "code",
   "execution_count": 13,
   "metadata": {
    "collapsed": false
   },
   "outputs": [],
   "source": [
    "(define (sqrt-iter guess x)\n",
    "  (if (good-enough? guess x)\n",
    "      guess\n",
    "      (sqrt-iter (improve guess x)\n",
    "                 x)))\n",
    "\n",
    "(define (improve guess k)\n",
    "  (average guess (/ k guess)))\n",
    "\n",
    "(define (average x y)\n",
    "  (/ (+ x y) 2.0))\n",
    "\n",
    "(define (good-enough? guess x)\n",
    "  (< (abs (- (square guess) x)) 0.001))\n",
    "\n",
    "(define (sqrt x)\n",
    "  (sqrt-iter 1.0 x))"
   ]
  },
  {
   "cell_type": "code",
   "execution_count": 11,
   "metadata": {
    "collapsed": false
   },
   "outputs": [
    {
     "data": {
      "text/plain": [
       "0.03125106561775382"
      ]
     },
     "execution_count": 11,
     "metadata": {},
     "output_type": "execute_result"
    }
   ],
   "source": [
    "(sqrt .0000001)"
   ]
  },
  {
   "cell_type": "code",
   "execution_count": 12,
   "metadata": {
    "collapsed": false
   },
   "outputs": [
    {
     "data": {
      "text/plain": [
       "0.03125010656242753"
      ]
     },
     "execution_count": 12,
     "metadata": {},
     "output_type": "execute_result"
    }
   ],
   "source": [
    "(sqrt .00000001)"
   ]
  },
  {
   "cell_type": "markdown",
   "metadata": {
    "collapsed": false
   },
   "source": [
    "For Large numbers, there might not be enough precision in the data structure, and the algorithm will never converge."
   ]
  },
  {
   "cell_type": "code",
   "execution_count": 58,
   "metadata": {
    "collapsed": false
   },
   "outputs": [],
   "source": [
    ";(sqrt 1000000000000000000000000000000000000000000000000000)"
   ]
  },
  {
   "cell_type": "code",
   "execution_count": 41,
   "metadata": {
    "collapsed": true
   },
   "outputs": [],
   "source": [
    "(define (sqrt-iter2 oldguess guess x)\n",
    "  (if (good-enough2? oldguess guess x)\n",
    "      guess\n",
    "      (sqrt-iter2 guess (improve guess x)\n",
    "                 x)))\n",
    "\n",
    "(define (good-enough2? guess oldguess x)\n",
    "  (< (/ (abs (- guess oldguess)) guess) 0.0001))\n",
    "\n",
    "(define (sqrt2 x)\n",
    "  (sqrt-iter2 2.0 1.0 x))"
   ]
  },
  {
   "cell_type": "code",
   "execution_count": 42,
   "metadata": {
    "collapsed": false
   },
   "outputs": [
    {
     "data": {
      "text/plain": [
       "3.1622776601683795e+25"
      ]
     },
     "execution_count": 42,
     "metadata": {},
     "output_type": "execute_result"
    }
   ],
   "source": [
    "(sqrt2 1000000000000000000000000000000000000000000000000000)"
   ]
  },
  {
   "cell_type": "code",
   "execution_count": 43,
   "metadata": {
    "collapsed": false
   },
   "outputs": [
    {
     "data": {
      "text/plain": [
       "1.0000000015603234e-05"
      ]
     },
     "execution_count": 43,
     "metadata": {},
     "output_type": "execute_result"
    }
   ],
   "source": [
    "(sqrt2 .0000000001)"
   ]
  },
  {
   "cell_type": "markdown",
   "metadata": {},
   "source": [
    "### Exercise 1.8\n",
    "\n",
    "> Newton's method for cube roots is based on the fact that if y is an approximation to the cube root of x, then a better approximation is given by the value\n",
    "> $$\\frac{x/y^2 + 2 y}{3}$$\n",
    "> Use this formula to implement a cube-root procedure analogous to the square-root procedure. "
   ]
  },
  {
   "cell_type": "code",
   "execution_count": 56,
   "metadata": {
    "collapsed": false
   },
   "outputs": [],
   "source": [
    "(define (cbrt-iter oldguess guess x)\n",
    "  (if (good-enough2? oldguess guess x)\n",
    "      guess\n",
    "      (cbrt-iter guess (improve-cube guess x)\n",
    "                 x)))\n",
    "\n",
    "(define (improve-cube y x)\n",
    "  (/ (+ (/ x (square y))\n",
    "        (* 2 y)) \n",
    "     3))\n",
    "\n",
    "(define (cbrt x)\n",
    "  (cbrt-iter 1.0 2.0 x))"
   ]
  },
  {
   "cell_type": "markdown",
   "metadata": {},
   "source": [
    "### Exercise 1.9.  \n",
    "\n",
    "> Each of the following two procedures defines a method for adding two positive integers in terms of the procedures inc, which increments its argument by 1, and dec, which decrements its argument by 1.\n",
    ">\n",
    ">```scheme\n",
    "(define (+ a b)\n",
    "  (if (= a 0)\n",
    "      b\n",
    "      (inc (+ (dec a) b))))\n",
    "```\n",
    "\n",
    ">```scheme\n",
    "(define (+ a b)\n",
    "  (if (= a 0)\n",
    "      b\n",
    "      (+ (dec a) (inc b)))\n",
    "```\n",
    ">\n",
    "> Using the substitution model, illustrate the process generated by each procedure in evaluating (+ 4 5). Are these processes iterative or recursive?\n",
    "\n",
    "The first process is recursive:\n",
    "\n",
    "```scheme\n",
    "(+ 4 5)\n",
    "(inc (+ (dec 4) 5))\n",
    "(inc (+ 3 5))\n",
    "(inc (inc (+ (dec 3) 5)))\n",
    "(inc (inc (+ 2 5)))\n",
    "(inc (inc (inc (+ (dec 2) 5))))\n",
    "(inc (inc (inc (+ 1 5))))\n",
    "(inc (inc (inc (inc (+ (dec 1) 5)))))\n",
    "(inc (inc (inc (inc (+ 0 5)))))\n",
    "(inc (inc (inc (inc 5))))\n",
    "(inc (inc (inc 6)))\n",
    "(inc (inc 7))\n",
    "(inc 8)\n",
    "9\n",
    "```\n",
    "\n",
    "\n",
    "The second process is iterative.\n",
    "\n",
    "```scheme\n",
    "(+ 4 5)\n",
    "(+ (dec 4) (inc 5))\n",
    "(+ 3 6)\n",
    "(+ (dec 3) (inc 6))\n",
    "(+ 2 7)\n",
    "(+ (dec 2) (inc 7))\n",
    "(+ 1 8)\n",
    "(+ (dec 1) (inc 8))\n",
    "(+ 0 9)\n",
    "9\n",
    "```"
   ]
  },
  {
   "cell_type": "markdown",
   "metadata": {
    "collapsed": true
   },
   "source": [
    "### Exercise 1.10.  \n",
    "\n",
    "> The following procedure computes a mathematical function called Ackermann's function."
   ]
  },
  {
   "cell_type": "code",
   "execution_count": 5,
   "metadata": {
    "collapsed": false
   },
   "outputs": [],
   "source": [
    "(define (A x y)\n",
    "  (cond ((= y 0) 0)\n",
    "        ((= x 0) (* 2 y))\n",
    "        ((= y 1) 2)\n",
    "        (else (A (- x 1)\n",
    "                 (A x (- y 1))))))\n"
   ]
  },
  {
   "cell_type": "markdown",
   "metadata": {},
   "source": [
    "> What are the values of the following expressions?"
   ]
  },
  {
   "cell_type": "code",
   "execution_count": 6,
   "metadata": {
    "collapsed": false
   },
   "outputs": [
    {
     "data": {
      "text/plain": [
       "1024"
      ]
     },
     "execution_count": 6,
     "metadata": {},
     "output_type": "execute_result"
    }
   ],
   "source": [
    "(A 1 10)"
   ]
  },
  {
   "cell_type": "code",
   "execution_count": 11,
   "metadata": {
    "collapsed": false
   },
   "outputs": [
    {
     "data": {
      "text/plain": [
       "65536"
      ]
     },
     "execution_count": 11,
     "metadata": {},
     "output_type": "execute_result"
    }
   ],
   "source": [
    "(A 2 4)"
   ]
  },
  {
   "cell_type": "code",
   "execution_count": 8,
   "metadata": {
    "collapsed": false
   },
   "outputs": [
    {
     "data": {
      "text/plain": [
       "65536"
      ]
     },
     "execution_count": 8,
     "metadata": {},
     "output_type": "execute_result"
    }
   ],
   "source": [
    "(A 3 3)"
   ]
  },
  {
   "cell_type": "markdown",
   "metadata": {},
   "source": [
    "> Consider the following procedures, where A is the procedure defined above:\n",
    "\n",
    ">```scheme \n",
    "(define (f n) (A 0 n))\n",
    "(define (g n) (A 1 n))\n",
    "(define (h n) (A 2 n))\n",
    "(define (k n) (* 5 n n))\n",
    "``` \n",
    "\n",
    "> Give concise mathematical definitions for the functions computed by the procedures f, g, and h for positive integer values of n. For example, (k n) computes $5n^2$."
   ]
  },
  {
   "cell_type": "markdown",
   "metadata": {},
   "source": [
    "```scheme\n",
    "(A 0 n)\n",
    "(* 2 n)\n",
    "```\n",
    "$f(n) = 2n$\n",
    "\n",
    "```scheme\n",
    "(A 1 n)\n",
    "(A 0 (A 1 (n-1))\n",
    "(A 0 (A 0 (A 1 (n-2))\n",
    "...\n",
    "(A 0 (A 0 (A 0 ... ... (A 0 1)))\n",
    "```\n",
    "$g(1) = 2$\n",
    "\n",
    "$g(n) = 2g(n-1)$\n",
    "\n",
    "$g(n) = 2^n$\n",
    "\n",
    "```scheme\n",
    "(A 2 n)\n",
    "(A 1 (A 2 n-1))\n",
    "```\n",
    "\n",
    "$h(1) = 2$\n",
    "\n",
    "$h(n) = 2^{h(n-1)}$\n",
    "\n",
    "$h(n) = 2\\uparrow\\uparrow n$"
   ]
  },
  {
   "cell_type": "markdown",
   "metadata": {},
   "source": [
    "###Exercise 1.11.  \n",
    "\n",
    "> A function $f$ is defined by the rule that $f(n) = n$ if $n<3$ and $f(n) = f(n - 1) + 2f(n - 2) + 3f(n - 3)$ if $n> 3$. Write a procedure that computes f by means of a recursive process. Write a procedure that computes f by means of an iterative process."
   ]
  },
  {
   "cell_type": "code",
   "execution_count": 30,
   "metadata": {
    "collapsed": false
   },
   "outputs": [
    {
     "data": {
      "text/plain": [
       "59"
      ]
     },
     "execution_count": 30,
     "metadata": {},
     "output_type": "execute_result"
    }
   ],
   "source": [
    "(define (f-rec n) \n",
    "   (if (< n 3)\n",
    "       n\n",
    "       (+ (f-rec (- n 1))\n",
    "          (* 2 (f-rec (- n 2)))\n",
    "          (* 3 (f-rec (- n 3))))))"
   ]
  },
  {
   "cell_type": "code",
   "execution_count": 31,
   "metadata": {
    "collapsed": false
   },
   "outputs": [
    {
     "data": {
      "text/plain": [
       "59"
      ]
     },
     "execution_count": 31,
     "metadata": {},
     "output_type": "execute_result"
    }
   ],
   "source": [
    "(define (f-iter a b c count)\n",
    "  (if (= count 0) \n",
    "      a\n",
    "      (f-iter (+ a (* 2 b) (* 3 c)) a b (- count 1))))\n",
    "\n",
    "(define (f n)\n",
    "  (if (< n 3) \n",
    "      n\n",
    "      (f-iter 2 1 0 (- n 2))))"
   ]
  },
  {
   "cell_type": "markdown",
   "metadata": {},
   "source": [
    "### Exercise 1.12.  \n",
    "\n",
    "> The following pattern of numbers is called Pascal's triangle.\n",
    ">```\n",
    "         1\n",
    "       1   1\n",
    "     1   2   1\n",
    "   1   3   3   1\n",
    " 1   4   6   4   1\n",
    "```\n",
    "\n",
    "> The numbers at the edge of the triangle are all 1, and each number inside the triangle is the sum of the two numbers above it.35 Write a procedure that computes elements of Pascal's triangle by means of a recursive process."
   ]
  },
  {
   "cell_type": "code",
   "execution_count": 14,
   "metadata": {
    "collapsed": false
   },
   "outputs": [
    {
     "data": {
      "text/plain": [
       "1"
      ]
     },
     "execution_count": 14,
     "metadata": {},
     "output_type": "execute_result"
    }
   ],
   "source": [
    "(define (pascal r c)\n",
    "  (cond ((= c 0) 0)\n",
    "        ((= c (+ r 2)) 0)\n",
    "        ((= c r) 1)\n",
    "        (else (+ (pascal (- r 1) (- c 1)) (pascal (- r 1) c)))))"
   ]
  },
  {
   "cell_type": "markdown",
   "metadata": {},
   "source": [
    "### Exercise 1.13.  \n",
    "\n",
    "> Prove that $Fib(n)$ is the closest integer to $\\phi^n/\\sqrt 5$, where $\\phi = (1 + \\sqrt 5)/2$. Hint: Let $\\psi = (1 - \\sqrt 5)/2$. Use induction and the definition of the Fibonacci numbers to prove that $Fib(n) = (\\phi^n - \\psi^n)/\\sqrt 5$.\n",
    "\n",
    "\n",
    "Base cases: \n",
    "\n",
    "$$Fib(0) = (\\phi^0 - \\psi^0)/\\sqrt 5 = 0$$\n",
    "\n",
    "$$Fib(1) = \\frac{\\phi^1 - \\psi^1}{\\sqrt 5} = \\frac{\\frac{1+\\sqrt 5}{2} - \\frac{1 - \\sqrt 5}{2}}{\\sqrt 5} = \\frac{\\sqrt 5}{\\sqrt 5} = 1$$ \n",
    "\n",
    "Assume the induction hypothesis that for all $i < k$, $Fib(i) = \\frac{\\phi^i - \\psi^i}{\\sqrt 5}$\n",
    "\n",
    "$$Fib(k) = Fib(k-1) + Fib(k-2) = \\frac{\\phi^{k-1} - \\psi^{k-1}}{\\sqrt 5} + \\frac{\\phi^{k-2} - \\psi^{k-2}}{\\sqrt 5}$$\n",
    "\n",
    "$$= \\frac{\\phi^{k-1} + \\phi^{k-2} - (\\psi^{k-1} + \\psi^{k-2})}{\\sqrt 5}$$\n",
    "$$ = \\frac{(1 + \\frac{1}{\\phi})\\phi^{k-1} - (1 + \\frac{1}{\\psi})\\psi^{k-1}}{\\sqrt 5}$$\n",
    "$$ = \\frac{\\left(1+ \\frac{2}{1 + \\sqrt 5}\\right)\\phi^{k-1}  - \\left(1 + \\frac{2}{1-\\sqrt 5}\\right)\\psi^{k-1}}{\\sqrt 5}$$\n",
    "$$ = \\frac{\\left(\\frac{3 + \\sqrt 5}{1 + \\sqrt 5}\\right)\\phi^{k-1}  - \\left(\\frac{3 - \\sqrt 5}{1-\\sqrt 5}\\right)\\psi^{k-1}}{\\sqrt 5}$$\n",
    "$$ = \\frac{\\left(\\frac{(3 + \\sqrt 5)(1 - \\sqrt 5)}{(1 + \\sqrt 5)(1 - \\sqrt 5)}\\right)\\phi^{k-1}  - \\left(\\frac{(3 - \\sqrt 5)(1 + \\sqrt 5)}{(1-\\sqrt 5)(1 + \\sqrt 5)}\\right)\\psi^{k-1}}{\\sqrt 5}$$\n",
    "$$ = \\frac{\\left(\\frac{-2 - 2 \\sqrt 5}{-4}\\right)\\phi^{k-1}  - \\left(\\frac{-2 + 2 \\sqrt 5}{-4}\\right)\\psi^{k-1}}{\\sqrt 5}$$\n",
    "$$ = \\frac{(\\phi)\\phi^{k-1}  - (\\psi)\\psi^{k-1}}{\\sqrt 5}$$\n",
    "\n",
    "Thus $Fib(n) = \\frac{\\phi^n - \\psi^n}{\\sqrt 5}$.\n",
    "\n",
    "Now, Since we're looking for the closest integer, we have to show that $|Fib(n) - \\phi^n/\\sqrt 5| < .5$\n",
    "\n",
    "$$ \\frac{\\phi^n - \\psi^n}{\\sqrt 5} - \\frac{\\phi^n}{\\sqrt 5 } = -\\frac{\\psi^n}{\\sqrt 5} = -\\frac{(1 - \\sqrt 5)}{2\\sqrt 5} = -\\frac{\\sqrt 5 - 5}{10} = \\frac{1}{2}-\\frac{\\sqrt 5}{10}$$\n",
    "\n",
    "Which is less than .5\n"
   ]
  },
  {
   "cell_type": "markdown",
   "metadata": {},
   "source": [
    "### Exercise 1.14.  \n",
    "\n",
    "> Draw the tree illustrating the process generated by the count-change procedure of section 1.2.2 in making change for 11 cents. What are the orders of growth of the space and number of steps used by this process as the amount to be changed increases?\n",
    "\n",
    "![count-change-map](count-change-map.png)\n",
    "\n",
    "The time requirement is proportional to the number of nodes in the tree, while the space will be proportional to the depth of the tree. The depth of the tree is bound by the pennies, so the space requirement is $\\theta(n)$.\n",
    "\n",
    "The number of nodes is $\\theta(n^k)$, where $k$ is the number of different coins, and n is the amount of change."
   ]
  },
  {
   "cell_type": "markdown",
   "metadata": {},
   "source": [
    "### Exercise 1.15.  \n",
    "\n",
    "> The sine of an angle (specified in radians) can be computed by making use of the approximation \n",
    "$ sin x \\approx x $ if $x$ is sufficiently small, and the trigonometric identity $ sin x = 3 sin \\frac{x}{3} - 4 sin^3 {x}{3}$ to reduce the size of an argument of sin. (For purposes of this exercise an angle is considered ``sufficiently small'' if its magnitude is not greater than 0.1 radians.) These ideas are incorporated in the following procedures:"
   ]
  },
  {
   "cell_type": "code",
   "execution_count": 16,
   "metadata": {
    "collapsed": true
   },
   "outputs": [],
   "source": [
    "(define (cube x) (* x x x))\n",
    "(define (p x) (- (* 3 x) (* 4 (cube x))))\n",
    "(define (sine angle)\n",
    "   (if (not (> (abs angle) 0.1))\n",
    "       angle\n",
    "       (p (sine (/ angle 3.0)))))"
   ]
  },
  {
   "cell_type": "markdown",
   "metadata": {},
   "source": [
    "\n",
    "> a.  How many times is the procedure p applied when `(sine 12.15)` is evaluated?\n",
    "\n",
    "```\n",
    "(sine 12.15)\n",
    "(p (sine (4.05)))\n",
    "(p (p (sine (1.35))))\n",
    "(p (p (p (sine (.45)))))\n",
    "(p (p (p (p (sine (.15))))))\n",
    "(p (p (p (p (p (sine (.05)))))))\n",
    "(p (p (p (p (p .05)))))\n",
    "```\n",
    "\n",
    "5\n",
    "\n",
    "> b.  What is the order of growth in space and number of steps (as a function of a) used by the process generated by the sine procedure when `(sine a)` is evaluated?\n",
    "\n",
    "The growth in space and number of steps is $\\theta(log_3a)$ -- $p$ is constant, and the recursive call happens while repeatedly dividing by three remains above a threshold\n"
   ]
  }
 ],
 "metadata": {
  "kernelspec": {
   "display_name": "Calysto Scheme 3",
   "language": "scheme",
   "name": "calysto_scheme"
  },
  "language_info": {
   "codemirror_mode": {
    "name": "scheme"
   },
   "mimetype": "text/x-scheme",
   "name": "scheme",
   "pygments_lexer": "scheme"
  }
 },
 "nbformat": 4,
 "nbformat_minor": 0
}
