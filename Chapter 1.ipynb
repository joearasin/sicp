{
 "cells": [
  {
   "cell_type": "markdown",
   "metadata": {},
   "source": [
    "### Exercise 1.1.\n",
    "\n",
    "> Below is a sequence of expressions. What is the result printed by the interpreter in response to each expression? Assume that the sequence is to be evaluated in the order in which it is presented.\n",
    "\n",
    "> `10`\n",
    "\n",
    "10\n",
    "\n",
    "> `(+ 5 3 4)`\n",
    "\n",
    "12\n",
    "\n",
    "> `(- 9 1)`\n",
    "\n",
    "8\n",
    "\n",
    "> `(/ 6 2)`\n",
    "\n",
    "3\n",
    "\n",
    "> `(+ (* 2 4) (- 4 6))`\n",
    "\n",
    "10\n",
    "\n",
    ">```scheme\n",
    "(define a 3)\n",
    "(define b (+ a 1))\n",
    "(+ a b (* a b))\n",
    "```\n",
    "\n",
    "19\n",
    "\n",
    "\n",
    "> `(= a b)`\n",
    "\n",
    "\\#f\n",
    "\n",
    ">```scheme\n",
    "(if (and (> b a) (< b (* a b)))\n",
    "    b\n",
    "    a)\n",
    "```\n",
    "\n",
    "4\n",
    "\n",
    ">```scheme\n",
    "(cond ((= a 4) 6)\n",
    "      ((= b 4) (+ 6 7 a))\n",
    "      (else 25))\n",
    "```\n",
    "\n",
    "16\n",
    "\n",
    ">`(+ 2 (if (> b a) b a))`\n",
    "\n",
    "6\n",
    "\n",
    ">```scheme\n",
    "(* (cond ((> a b) a)\n",
    "         ((< a b) b)\n",
    "         (else -1))\n",
    "   (+ a 1))\n",
    "```\n",
    "\n",
    "16\n"
   ]
  },
  {
   "cell_type": "markdown",
   "metadata": {},
   "source": [
    "### Exercise 1.2.\n",
    "\n",
    "> Translate the following expression into prefix form\n",
    "> \n",
    "> $$\\frac{5 + 4 + \\left(2 - \\left(3 - \\left(6 + \\frac{4}{5}\\right)\\right)\\right)}{3\\left(6-2\\right)\\left(2-7\\right)}$$"
   ]
  },
  {
   "cell_type": "code",
   "execution_count": 30,
   "metadata": {
    "collapsed": false
   },
   "outputs": [
    {
     "data": {
      "text/plain": [
       "-37/150"
      ]
     },
     "execution_count": 30,
     "metadata": {},
     "output_type": "execute_result"
    }
   ],
   "source": [
    "(/ (+ 5\n",
    "      4\n",
    "      (- 2\n",
    "         (- 3 \n",
    "            (+ 6 (/ 4 5)))))\n",
    "   (* 3 \n",
    "      (- 6 2)\n",
    "      (- 2 7)))"
   ]
  },
  {
   "cell_type": "markdown",
   "metadata": {},
   "source": [
    "### Exercise 1.3.  \n",
    "\n",
    "> Define a procedure that takes three numbers as arguments and returns the sum of the squares of the two larger numbers."
   ]
  },
  {
   "cell_type": "code",
   "execution_count": 60,
   "metadata": {
    "collapsed": false
   },
   "outputs": [],
   "source": [
    "(define (square x) \n",
    "  (* x x))\n",
    "\n",
    "(define (sumSquare x y) (+ (square x) (square y)))\n",
    "\n",
    "(define (sumSquareMax x y z)\n",
    "  (cond ((and (<= x y) (<= x z)) (sumSquare y z))\n",
    "        ((and (<= y x) (<= y z)) (sumSquare x z))\n",
    "        ((and (<= z x) (<= z y)) (sumSquare x y))))"
   ]
  },
  {
   "cell_type": "markdown",
   "metadata": {},
   "source": [
    "### Exercise 1.4.  \n",
    "\n",
    "> Observe that our model of evaluation allows for combinations whose operators are compound expressions. Use this observation to describe the behavior of the following procedure:\n",
    "> \n",
    "> ```scheme\n",
    "> (define (a-plus-abs-b a b)\n",
    ">   ((if (> b 0) + -) a b))\n",
    "> ```\n",
    "\n",
    "Defines a function that takes two values. If the latter is positive, adds the two. Otherwise, subtracts the latter from the former."
   ]
  },
  {
   "cell_type": "markdown",
   "metadata": {},
   "source": [
    "### Exercise 1.5.  \n",
    "\n",
    ">Ben Bitdiddle has invented a test to determine whether the interpreter he is faced with is using applicative-order evaluation or normal-order evaluation. He defines the following two procedures:\n",
    ">\n",
    ">```scheme\n",
    ">(define (p) (p))\n",
    ">\n",
    ">(define (test x y)\n",
    ">  (if (= x 0)\n",
    ">      0\n",
    ">      y))\n",
    "> ```\n",
    "> Then he evaluates the expression\n",
    "> \n",
    "> ```scheme\n",
    "> (test 0 (p))\n",
    "> ```\n",
    "> \n",
    "> What behavior will Ben observe with an interpreter that uses applicative-order evaluation? What behavior will he observe with an interpreter that uses normal-order evaluation? Explain your answer. (Assume that the evaluation rule for the special form if is the same whether the interpreter is using normal or applicative order: The predicate expression is evaluated first, and the result determines whether to evaluate the consequent or the alternative expression.)\n",
    "\n",
    "With applicative order evaluation, Ben will observe endless recursion, as the arguments will be evaluated before the contents. With normal-order evaluation, 0 will be returned, as the infinite recursion is short-circuited."
   ]
  },
  {
   "cell_type": "markdown",
   "metadata": {},
   "source": [
    "### Exercise 1.6.  \n",
    "\n",
    "> Alyssa P. Hacker doesn't see why if needs to be provided as a special form. \"Why can't I just define it as an ordinary procedure in terms of cond?\" she asks. Alyssa's friend Eva Lu Ator claims this can indeed be done, and she defines a new version of if:\n",
    "> \n",
    "> ```scheme\n",
    "> (define (new-if predicate then-clause else-clause)\n",
    ">   (cond (predicate then-clause)\n",
    ">         (else else-clause)))\n",
    "> ```\n",
    "> \n",
    "> Eva demonstrates the program for Alyssa:\n",
    "> \n",
    "> ``` scheme\n",
    "> (new-if (= 2 3) 0 5)\n",
    "> 5\n",
    "> ```\n",
    "> \n",
    "> ```scheme \n",
    "> (new-if (= 1 1) 0 5)\n",
    "> 0\n",
    "> ```\n",
    "> \n",
    "> Delighted, Alyssa uses new-if to rewrite the square-root program:\n",
    ">\n",
    "> ```scheme\n",
    ">  (define (sqrt-iter guess x)\n",
    ">    (new-if (good-enough? guess x)\n",
    ">            guess\n",
    ">            (sqrt-iter (improve guess x)\n",
    ">                       x)))\n",
    "> ```\n",
    "\n",
    "> What happens when Alyssa attempts to use this to compute square roots? Explain.\n",
    "\n",
    "It will recurse infinitely, because the recursive call gets evaluated before the new-if procedure resolves."
   ]
  },
  {
   "cell_type": "markdown",
   "metadata": {},
   "source": [
    "### Exercise 1.7.  \n",
    "\n",
    "> The good-enough? test used in computing square roots will not be very effective for finding the square roots of very small numbers. Also, in real computers, arithmetic operations are almost always performed with limited precision. This makes our test inadequate for very large numbers. Explain these statements, with examples showing how the test fails for small and large numbers. An alternative strategy for implementing good-enough? is to watch how guess changes from one iteration to the next and to stop when the change is a very small fraction of the guess. Design a square-root procedure that uses this kind of end test. Does this work better for small and large numbers?\n",
    "\n",
    "For very small numbers, the problem is that the tolerance may actually be larger than the number itself, and the algorithm doesn't run enough iterations to converge.\n",
    "\n"
   ]
  },
  {
   "cell_type": "code",
   "execution_count": 13,
   "metadata": {
    "collapsed": false
   },
   "outputs": [],
   "source": [
    "(define (sqrt-iter guess x)\n",
    "  (if (good-enough? guess x)\n",
    "      guess\n",
    "      (sqrt-iter (improve guess x)\n",
    "                 x)))\n",
    "\n",
    "(define (improve guess k)\n",
    "  (average guess (/ k guess)))\n",
    "\n",
    "(define (average x y)\n",
    "  (/ (+ x y) 2.0))\n",
    "\n",
    "(define (good-enough? guess x)\n",
    "  (< (abs (- (square guess) x)) 0.001))\n",
    "\n",
    "(define (sqrt x)\n",
    "  (sqrt-iter 1.0 x))"
   ]
  },
  {
   "cell_type": "code",
   "execution_count": 11,
   "metadata": {
    "collapsed": false
   },
   "outputs": [
    {
     "data": {
      "text/plain": [
       "0.03125106561775382"
      ]
     },
     "execution_count": 11,
     "metadata": {},
     "output_type": "execute_result"
    }
   ],
   "source": [
    "(sqrt .0000001)"
   ]
  },
  {
   "cell_type": "code",
   "execution_count": 12,
   "metadata": {
    "collapsed": false
   },
   "outputs": [
    {
     "data": {
      "text/plain": [
       "0.03125010656242753"
      ]
     },
     "execution_count": 12,
     "metadata": {},
     "output_type": "execute_result"
    }
   ],
   "source": [
    "(sqrt .00000001)"
   ]
  },
  {
   "cell_type": "markdown",
   "metadata": {
    "collapsed": false
   },
   "source": [
    "For Large numbers, there might not be enough precision in the data structure, and the algorithm will never converge."
   ]
  },
  {
   "cell_type": "code",
   "execution_count": 58,
   "metadata": {
    "collapsed": false
   },
   "outputs": [],
   "source": [
    ";(sqrt 1000000000000000000000000000000000000000000000000000)"
   ]
  },
  {
   "cell_type": "code",
   "execution_count": 41,
   "metadata": {
    "collapsed": true
   },
   "outputs": [],
   "source": [
    "(define (sqrt-iter2 oldguess guess x)\n",
    "  (if (good-enough2? oldguess guess x)\n",
    "      guess\n",
    "      (sqrt-iter2 guess (improve guess x)\n",
    "                 x)))\n",
    "\n",
    "(define (good-enough2? guess oldguess x)\n",
    "  (< (/ (abs (- guess oldguess)) guess) 0.0001))\n",
    "\n",
    "(define (sqrt2 x)\n",
    "  (sqrt-iter2 2.0 1.0 x))"
   ]
  },
  {
   "cell_type": "code",
   "execution_count": 42,
   "metadata": {
    "collapsed": false
   },
   "outputs": [
    {
     "data": {
      "text/plain": [
       "3.1622776601683795e+25"
      ]
     },
     "execution_count": 42,
     "metadata": {},
     "output_type": "execute_result"
    }
   ],
   "source": [
    "(sqrt2 1000000000000000000000000000000000000000000000000000)"
   ]
  },
  {
   "cell_type": "code",
   "execution_count": 43,
   "metadata": {
    "collapsed": false
   },
   "outputs": [
    {
     "data": {
      "text/plain": [
       "1.0000000015603234e-05"
      ]
     },
     "execution_count": 43,
     "metadata": {},
     "output_type": "execute_result"
    }
   ],
   "source": [
    "(sqrt2 .0000000001)"
   ]
  },
  {
   "cell_type": "markdown",
   "metadata": {},
   "source": [
    "### Exercise 1.8\n",
    "\n",
    "> Newton's method for cube roots is based on the fact that if y is an approximation to the cube root of x, then a better approximation is given by the value\n",
    "> $$\\frac{x/y^2 + 2 y}{3}$$\n",
    "> Use this formula to implement a cube-root procedure analogous to the square-root procedure. "
   ]
  },
  {
   "cell_type": "code",
   "execution_count": 56,
   "metadata": {
    "collapsed": false
   },
   "outputs": [],
   "source": [
    "(define (cbrt-iter oldguess guess x)\n",
    "  (if (good-enough2? oldguess guess x)\n",
    "      guess\n",
    "      (cbrt-iter guess (improve-cube guess x)\n",
    "                 x)))\n",
    "\n",
    "(define (improve-cube y x)\n",
    "  (/ (+ (/ x (square y))\n",
    "        (* 2 y)) \n",
    "     3))\n",
    "\n",
    "(define (cbrt x)\n",
    "  (cbrt-iter 1.0 2.0 x))"
   ]
  },
  {
   "cell_type": "markdown",
   "metadata": {},
   "source": [
    "### Exercise 1.9.  \n",
    "\n",
    "> Each of the following two procedures defines a method for adding two positive integers in terms of the procedures inc, which increments its argument by 1, and dec, which decrements its argument by 1.\n",
    ">\n",
    ">```scheme\n",
    "(define (+ a b)\n",
    "  (if (= a 0)\n",
    "      b\n",
    "      (inc (+ (dec a) b))))\n",
    "```\n",
    "\n",
    ">```scheme\n",
    "(define (+ a b)\n",
    "  (if (= a 0)\n",
    "      b\n",
    "      (+ (dec a) (inc b)))\n",
    "```\n",
    ">\n",
    "> Using the substitution model, illustrate the process generated by each procedure in evaluating (+ 4 5). Are these processes iterative or recursive?\n",
    "\n",
    "The first process is recursive:\n",
    "\n",
    "```scheme\n",
    "(+ 4 5)\n",
    "(inc (+ (dec 4) 5))\n",
    "(inc (+ 3 5))\n",
    "(inc (inc (+ (dec 3) 5)))\n",
    "(inc (inc (+ 2 5)))\n",
    "(inc (inc (inc (+ (dec 2) 5))))\n",
    "(inc (inc (inc (+ 1 5))))\n",
    "(inc (inc (inc (inc (+ (dec 1) 5)))))\n",
    "(inc (inc (inc (inc (+ 0 5)))))\n",
    "(inc (inc (inc (inc 5))))\n",
    "(inc (inc (inc 6)))\n",
    "(inc (inc 7))\n",
    "(inc 8)\n",
    "9\n",
    "```\n",
    "\n",
    "\n",
    "The second process is iterative.\n",
    "\n",
    "```scheme\n",
    "(+ 4 5)\n",
    "(+ (dec 4) (inc 5))\n",
    "(+ 3 6)\n",
    "(+ (dec 3) (inc 6))\n",
    "(+ 2 7)\n",
    "(+ (dec 2) (inc 7))\n",
    "(+ 1 8)\n",
    "(+ (dec 1) (inc 8))\n",
    "(+ 0 9)\n",
    "9\n",
    "```"
   ]
  },
  {
   "cell_type": "markdown",
   "metadata": {
    "collapsed": true
   },
   "source": [
    "### Exercise 1.10.  \n",
    "\n",
    "> The following procedure computes a mathematical function called Ackermann's function."
   ]
  },
  {
   "cell_type": "code",
   "execution_count": 5,
   "metadata": {
    "collapsed": false
   },
   "outputs": [],
   "source": [
    "(define (A x y)\n",
    "  (cond ((= y 0) 0)\n",
    "        ((= x 0) (* 2 y))\n",
    "        ((= y 1) 2)\n",
    "        (else (A (- x 1)\n",
    "                 (A x (- y 1))))))\n"
   ]
  },
  {
   "cell_type": "markdown",
   "metadata": {},
   "source": [
    "> What are the values of the following expressions?"
   ]
  },
  {
   "cell_type": "code",
   "execution_count": 6,
   "metadata": {
    "collapsed": false
   },
   "outputs": [
    {
     "data": {
      "text/plain": [
       "1024"
      ]
     },
     "execution_count": 6,
     "metadata": {},
     "output_type": "execute_result"
    }
   ],
   "source": [
    "(A 1 10)"
   ]
  },
  {
   "cell_type": "code",
   "execution_count": 11,
   "metadata": {
    "collapsed": false
   },
   "outputs": [
    {
     "data": {
      "text/plain": [
       "65536"
      ]
     },
     "execution_count": 11,
     "metadata": {},
     "output_type": "execute_result"
    }
   ],
   "source": [
    "(A 2 4)"
   ]
  },
  {
   "cell_type": "code",
   "execution_count": 8,
   "metadata": {
    "collapsed": false
   },
   "outputs": [
    {
     "data": {
      "text/plain": [
       "65536"
      ]
     },
     "execution_count": 8,
     "metadata": {},
     "output_type": "execute_result"
    }
   ],
   "source": [
    "(A 3 3)"
   ]
  },
  {
   "cell_type": "markdown",
   "metadata": {},
   "source": [
    "> Consider the following procedures, where A is the procedure defined above:\n",
    "\n",
    ">```scheme \n",
    "(define (f n) (A 0 n))\n",
    "(define (g n) (A 1 n))\n",
    "(define (h n) (A 2 n))\n",
    "(define (k n) (* 5 n n))\n",
    "``` \n",
    "\n",
    "> Give concise mathematical definitions for the functions computed by the procedures f, g, and h for positive integer values of n. For example, (k n) computes $5n^2$."
   ]
  },
  {
   "cell_type": "markdown",
   "metadata": {},
   "source": [
    "```scheme\n",
    "(A 0 n)\n",
    "(* 2 n)\n",
    "```\n",
    "$f(n) = 2n$\n",
    "\n",
    "```scheme\n",
    "(A 1 n)\n",
    "(A 0 (A 1 (n-1))\n",
    "(A 0 (A 0 (A 1 (n-2))\n",
    "...\n",
    "(A 0 (A 0 (A 0 ... ... (A 0 1)))\n",
    "```\n",
    "$g(1) = 2$\n",
    "\n",
    "$g(n) = 2g(n-1)$\n",
    "\n",
    "$g(n) = 2^n$\n",
    "\n",
    "```scheme\n",
    "(A 2 n)\n",
    "(A 1 (A 2 n-1))\n",
    "```\n",
    "\n",
    "$h(1) = 2$\n",
    "\n",
    "$h(n) = 2^{h(n-1)}$\n",
    "\n",
    "$h(n) = 2\\uparrow\\uparrow n$"
   ]
  },
  {
   "cell_type": "markdown",
   "metadata": {},
   "source": [
    "###Exercise 1.11.  \n",
    "\n",
    "> A function $f$ is defined by the rule that $f(n) = n$ if $n<3$ and $f(n) = f(n - 1) + 2f(n - 2) + 3f(n - 3)$ if $n> 3$. Write a procedure that computes f by means of a recursive process. Write a procedure that computes f by means of an iterative process."
   ]
  },
  {
   "cell_type": "code",
   "execution_count": 30,
   "metadata": {
    "collapsed": false
   },
   "outputs": [
    {
     "data": {
      "text/plain": [
       "59"
      ]
     },
     "execution_count": 30,
     "metadata": {},
     "output_type": "execute_result"
    }
   ],
   "source": [
    "(define (f-rec n) \n",
    "   (if (< n 3)\n",
    "       n\n",
    "       (+ (f-rec (- n 1))\n",
    "          (* 2 (f-rec (- n 2)))\n",
    "          (* 3 (f-rec (- n 3))))))"
   ]
  },
  {
   "cell_type": "code",
   "execution_count": 31,
   "metadata": {
    "collapsed": false
   },
   "outputs": [
    {
     "data": {
      "text/plain": [
       "59"
      ]
     },
     "execution_count": 31,
     "metadata": {},
     "output_type": "execute_result"
    }
   ],
   "source": [
    "(define (f-iter a b c count)\n",
    "  (if (= count 0) \n",
    "      a\n",
    "      (f-iter (+ a (* 2 b) (* 3 c)) a b (- count 1))))\n",
    "\n",
    "(define (f n)\n",
    "  (if (< n 3) \n",
    "      n\n",
    "      (f-iter 2 1 0 (- n 2))))"
   ]
  },
  {
   "cell_type": "markdown",
   "metadata": {},
   "source": [
    "### Exercise 1.12.  \n",
    "\n",
    "> The following pattern of numbers is called Pascal's triangle.\n",
    ">```\n",
    "         1\n",
    "       1   1\n",
    "     1   2   1\n",
    "   1   3   3   1\n",
    " 1   4   6   4   1\n",
    "```\n",
    "\n",
    "> The numbers at the edge of the triangle are all 1, and each number inside the triangle is the sum of the two numbers above it.35 Write a procedure that computes elements of Pascal's triangle by means of a recursive process."
   ]
  },
  {
   "cell_type": "code",
   "execution_count": 14,
   "metadata": {
    "collapsed": false
   },
   "outputs": [
    {
     "data": {
      "text/plain": [
       "1"
      ]
     },
     "execution_count": 14,
     "metadata": {},
     "output_type": "execute_result"
    }
   ],
   "source": [
    "(define (pascal r c)\n",
    "  (cond ((= c 0) 0)\n",
    "        ((= c (+ r 2)) 0)\n",
    "        ((= c r) 1)\n",
    "        (else (+ (pascal (- r 1) (- c 1)) (pascal (- r 1) c)))))"
   ]
  },
  {
   "cell_type": "markdown",
   "metadata": {},
   "source": [
    "### Exercise 1.13.  \n",
    "\n",
    "> Prove that $Fib(n)$ is the closest integer to $\\phi^n/\\sqrt 5$, where $\\phi = (1 + \\sqrt 5)/2$. Hint: Let $\\psi = (1 - \\sqrt 5)/2$. Use induction and the definition of the Fibonacci numbers to prove that $Fib(n) = (\\phi^n - \\psi^n)/\\sqrt 5$.\n",
    "\n",
    "\n",
    "Base cases: \n",
    "\n",
    "$$Fib(0) = (\\phi^0 - \\psi^0)/\\sqrt 5 = 0$$\n",
    "\n",
    "$$Fib(1) = \\frac{\\phi^1 - \\psi^1}{\\sqrt 5} = \\frac{\\frac{1+\\sqrt 5}{2} - \\frac{1 - \\sqrt 5}{2}}{\\sqrt 5} = \\frac{\\sqrt 5}{\\sqrt 5} = 1$$ \n",
    "\n",
    "Assume the induction hypothesis that for all $i < k$, $Fib(i) = \\frac{\\phi^i - \\psi^i}{\\sqrt 5}$\n",
    "\n",
    "$$Fib(k) = Fib(k-1) + Fib(k-2) = \\frac{\\phi^{k-1} - \\psi^{k-1}}{\\sqrt 5} + \\frac{\\phi^{k-2} - \\psi^{k-2}}{\\sqrt 5}$$\n",
    "\n",
    "$$= \\frac{\\phi^{k-1} + \\phi^{k-2} - (\\psi^{k-1} + \\psi^{k-2})}{\\sqrt 5}$$\n",
    "$$ = \\frac{(1 + \\frac{1}{\\phi})\\phi^{k-1} - (1 + \\frac{1}{\\psi})\\psi^{k-1}}{\\sqrt 5}$$\n",
    "$$ = \\frac{\\left(1+ \\frac{2}{1 + \\sqrt 5}\\right)\\phi^{k-1}  - \\left(1 + \\frac{2}{1-\\sqrt 5}\\right)\\psi^{k-1}}{\\sqrt 5}$$\n",
    "$$ = \\frac{\\left(\\frac{3 + \\sqrt 5}{1 + \\sqrt 5}\\right)\\phi^{k-1}  - \\left(\\frac{3 - \\sqrt 5}{1-\\sqrt 5}\\right)\\psi^{k-1}}{\\sqrt 5}$$\n",
    "$$ = \\frac{\\left(\\frac{(3 + \\sqrt 5)(1 - \\sqrt 5)}{(1 + \\sqrt 5)(1 - \\sqrt 5)}\\right)\\phi^{k-1}  - \\left(\\frac{(3 - \\sqrt 5)(1 + \\sqrt 5)}{(1-\\sqrt 5)(1 + \\sqrt 5)}\\right)\\psi^{k-1}}{\\sqrt 5}$$\n",
    "$$ = \\frac{\\left(\\frac{-2 - 2 \\sqrt 5}{-4}\\right)\\phi^{k-1}  - \\left(\\frac{-2 + 2 \\sqrt 5}{-4}\\right)\\psi^{k-1}}{\\sqrt 5}$$\n",
    "$$ = \\frac{(\\phi)\\phi^{k-1}  - (\\psi)\\psi^{k-1}}{\\sqrt 5}$$\n",
    "\n",
    "Thus $Fib(n) = \\frac{\\phi^n - \\psi^n}{\\sqrt 5}$.\n",
    "\n",
    "Now, Since we're looking for the closest integer, we have to show that $|Fib(n) - \\phi^n/\\sqrt 5| < .5$\n",
    "\n",
    "$$ \\frac{\\phi^n - \\psi^n}{\\sqrt 5} - \\frac{\\phi^n}{\\sqrt 5 } = -\\frac{\\psi^n}{\\sqrt 5} = -\\frac{(1 - \\sqrt 5)}{2\\sqrt 5} = -\\frac{\\sqrt 5 - 5}{10} = \\frac{1}{2}-\\frac{\\sqrt 5}{10}$$\n",
    "\n",
    "Which is less than .5\n"
   ]
  },
  {
   "cell_type": "markdown",
   "metadata": {},
   "source": [
    "### Exercise 1.14.  \n",
    "\n",
    "> Draw the tree illustrating the process generated by the count-change procedure of section 1.2.2 in making change for 11 cents. What are the orders of growth of the space and number of steps used by this process as the amount to be changed increases?\n",
    "\n",
    "![count-change-map](count-change-map.png)\n",
    "\n",
    "The time requirement is proportional to the number of nodes in the tree, while the space will be proportional to the depth of the tree. The depth of the tree is bound by the pennies, so the space requirement is $\\theta(n)$.\n",
    "\n",
    "The number of nodes is $\\theta(n^k)$, where $k$ is the number of different coins, and n is the amount of change."
   ]
  },
  {
   "cell_type": "markdown",
   "metadata": {},
   "source": [
    "### Exercise 1.15.  \n",
    "\n",
    "> The sine of an angle (specified in radians) can be computed by making use of the approximation \n",
    "$ sin x \\approx x $ if $x$ is sufficiently small, and the trigonometric identity $ sin x = 3 sin \\frac{x}{3} - 4 sin^3 {x}{3}$ to reduce the size of an argument of sin. (For purposes of this exercise an angle is considered ``sufficiently small'' if its magnitude is not greater than 0.1 radians.) These ideas are incorporated in the following procedures:"
   ]
  },
  {
   "cell_type": "code",
   "execution_count": 16,
   "metadata": {
    "collapsed": true
   },
   "outputs": [],
   "source": [
    "(define (cube x) (* x x x))\n",
    "(define (p x) (- (* 3 x) (* 4 (cube x))))\n",
    "(define (sine angle)\n",
    "   (if (not (> (abs angle) 0.1))\n",
    "       angle\n",
    "       (p (sine (/ angle 3.0)))))"
   ]
  },
  {
   "cell_type": "markdown",
   "metadata": {},
   "source": [
    "\n",
    "> a.  How many times is the procedure p applied when `(sine 12.15)` is evaluated?\n",
    "\n",
    "```\n",
    "(sine 12.15)\n",
    "(p (sine (4.05)))\n",
    "(p (p (sine (1.35))))\n",
    "(p (p (p (sine (.45)))))\n",
    "(p (p (p (p (sine (.15))))))\n",
    "(p (p (p (p (p (sine (.05)))))))\n",
    "(p (p (p (p (p .05)))))\n",
    "```\n",
    "\n",
    "5\n",
    "\n",
    "> b.  What is the order of growth in space and number of steps (as a function of a) used by the process generated by the sine procedure when `(sine a)` is evaluated?\n",
    "\n",
    "The growth in space and number of steps is $\\theta(log_3a)$ -- $p$ is constant, and the recursive call happens while repeatedly dividing by three remains above a threshold\n"
   ]
  },
  {
   "cell_type": "markdown",
   "metadata": {
    "collapsed": true
   },
   "source": [
    "### Exercise 1.16.  \n",
    "\n",
    "> Design a procedure that evolves an iterative exponentiation process that uses successive squaring and uses a logarithmic number of steps, as does fast-expt. (Hint: Using the observation that $(b^{n/2})^2 = (b^2)^{n/2}$, keep, along with the exponent n and the base b, an additional state variable $a$, and define the state transformation in such a way that the product $a b^n$ is unchanged from state to state. At the beginning of the process $a$ is taken to be 1, and the answer is given by the value of $a$ at the end of the process. In general, the technique of defining an invariant quantity that remains unchanged from state to state is a powerful way to think about the design of iterative algorithms.)"
   ]
  },
  {
   "cell_type": "code",
   "execution_count": 3,
   "metadata": {
    "collapsed": true
   },
   "outputs": [],
   "source": [
    "(define (fast-expt b n)\n",
    "  (define (square n) (* n n))\n",
    "  (define (even? n)\n",
    "    (= (remainder n 2) 0))\n",
    "  (define (fast-expt-iter a b n)\n",
    "    (cond ((= n 0) a)\n",
    "          ((even? n) (fast-expt-iter (square a) b (/ n 2)))\n",
    "          (else (fast-expt-iter (* a b) b (- n 1)))))\n",
    "  (fast-expt-iter 1 b n )\n",
    ")"
   ]
  },
  {
   "cell_type": "markdown",
   "metadata": {},
   "source": [
    "### Exercise 1.17.  \n",
    "\n",
    "> The exponentiation algorithms in this section are based on performing exponentiation by means of repeated multiplication. In a similar way, one can perform integer multiplication by means of repeated addition. The following multiplication procedure (in which it is assumed that our language can only add, not multiply) is analogous to the expt procedure:\n",
    "> \n",
    "```scheme\n",
    "(define (* a b)\n",
    "  (if (= b 0)\n",
    "      0\n",
    "      (+ a (* a (- b 1)))))\n",
    "```\n",
    ">This algorithm takes a number of steps that is linear in b. Now suppose we include, together with addition, operations double, which doubles an integer, and halve, which divides an (even) integer by 2. Using these, design a multiplication procedure analogous to fast-expt that uses a logarithmic number of steps.\n",
    "\n"
   ]
  },
  {
   "cell_type": "code",
   "execution_count": 13,
   "metadata": {
    "collapsed": false
   },
   "outputs": [],
   "source": [
    "(define (fast-mult a b)\n",
    "  (define (halve n) (/ n 2))\n",
    "  (define (double n) (+ n n))\n",
    "  (cond ((= b 0) 0)\n",
    "        ((even? b) (fast-mult (double a) (halve b)))\n",
    "        (else (+ a (fast-mult a (- b 1))))))"
   ]
  },
  {
   "cell_type": "markdown",
   "metadata": {},
   "source": [
    "### Exercise 1.18.  \n",
    "\n",
    "> Using the results of exercises 1.16 and 1.17, devise a procedure that generates an iterative process for multiplying two integers in terms of adding, doubling, and halving and uses a logarithmic number of steps."
   ]
  },
  {
   "cell_type": "code",
   "execution_count": 18,
   "metadata": {
    "collapsed": true
   },
   "outputs": [],
   "source": [
    "(define (fast-mult-i a b)\n",
    "  (define (halve n) (/ n 2))\n",
    "  (define (double n) (* n 2))\n",
    "  (define (even? n)\n",
    "    (= (remainder n 2) 0))\n",
    "  (define (fast-mult-iter r a b)\n",
    "    (cond ((= b 0) r)\n",
    "          ((even? b) (fast-mult-iter r (double a) (halve b)))\n",
    "          (else (fast-mult-iter (+ r a) a (- b 1)))))\n",
    "  (fast-mult-iter 0 a b )\n",
    ")"
   ]
  },
  {
   "cell_type": "markdown",
   "metadata": {},
   "source": [
    "### Exercise 1.19.   \n",
    "\n",
    "> There is a clever algorithm for computing the Fibonacci numbers in a logarithmic number of steps. Recall the transformation of the state variables a and b in the fib-iter process of section 1.2.2: $a\\leftarrow a + b$ and $b\\leftarrow a$. Call this transformation $T$, and observe that applying $T$ over and over again n times, starting with 1 and 0, produces the pair $Fib(n + 1)$ and $Fib(n)$. In other words, the Fibonacci numbers are produced by applying $T^n$, the $n$th power of the transformation $T$, starting with the pair (1,0). Now consider $T$ to be the special case of $p = 0$ and $q = 1$ in a family of transformations $T_{pq}$, where $T_{pq}$ transforms the pair $(a,b)$ according to $a\\leftarrow  bq + aq + ap$ and $b\\leftarrow bp + aq$. Show that if we apply such a transformation $T_{pq}$ twice, the effect is the same as using a single transformation $T_{p'q'}$ of the same form, and compute $p'$ and $q'$ in terms of $p$ and $q$. \n",
    "\n",
    "Applying transformation $T_{pq}(a,b)$ produces $a'=bq+aq+ap$ and $b'=bp+aq$. Applying this again produces:\n",
    "\n",
    "$$a''=b'q+a'q+a'p$$\n",
    "$$=(bp+aq)q+(bq+aq+ap)q+(bq+aq+ap)p$$\n",
    "$$=bpq+aq^2+bq^2+aq^2+apq+bpq+apq+ap^2$$\n",
    "$$=2aq^2+2apq+ap^2+2bpq+bq^2$$\n",
    "$$=a(2q^2+2pq+p^2)+b(2pq+q^2)$$\n",
    "\n",
    "Or, $p'=p^2+q^2$ and $q'=2pq+q^2$.\n",
    "\n",
    ">This gives us an explicit way to square these transformations, and thus we can compute $T^n$ using successive squaring, as in the fast-expt procedure. Put this all together to complete the following procedure, which runs in a logarithmic number of steps:\n"
   ]
  },
  {
   "cell_type": "code",
   "execution_count": 21,
   "metadata": {
    "collapsed": true
   },
   "outputs": [],
   "source": [
    "(define (fastfib n)\n",
    "  (fib-iter 1 0 0 1 n))\n",
    "(define (fib-iter a b p q count)\n",
    "  (define (square n) (* n n))\n",
    "  (cond ((= count 0) b)\n",
    "        ((even? count)\n",
    "         (fib-iter a\n",
    "                   b\n",
    "                   (+ (square p) (square q))\n",
    "                   (+ (* 2 p q) (square q))      ; compute q'\n",
    "                   (/ count 2)))\n",
    "        (else (fib-iter (+ (* b q) (* a q) (* a p))\n",
    "                        (+ (* b p) (* a q))\n",
    "                        p\n",
    "                        q\n",
    "                        (- count 1)))))"
   ]
  },
  {
   "cell_type": "markdown",
   "metadata": {},
   "source": [
    "### Exercise 1.20.  \n",
    "\n",
    "> The process that a procedure generates is of course dependent on the rules used by the interpreter. As an example, consider the iterative gcd procedure given above. Suppose we were to interpret this procedure using normal-order evaluation, as discussed in section 1.1.5. (The normal-order-evaluation rule for if is described in exercise 1.5.) Using the substitution method (for normal order), illustrate the process generated in evaluating `(gcd 206 40)` and indicate the remainder operations that are actually performed. \n",
    "\n",
    "(define (gcd a b)\n",
    "  (if (= b 0)\n",
    "      a\n",
    "      (gcd b (remainder a b))))\n",
    "\n",
    "\n",
    "```scheme\n",
    "(gcd 206 40)\n",
    "\n",
    "(if (= 40 0) 206 (gcd 40 (remainder 206 40)))\n",
    "      \n",
    "(gcd 40 (remainder 206 40))\n",
    "\n",
    "(if (= (remainder 206 40) 0) 40 (gcd (remainder 206 40) (remainder 40 (remainder 206 40)))) ;X\n",
    "\n",
    "(if (= 6 0) 40 (gcd (remainder 206 40) (remainder 40 (remainder 206 40))))\n",
    "\n",
    "(gcd (remainder 206 40) (remainder 40 (remainder 206 40)))\n",
    "\n",
    "(if (= (remainder 40 (remainder 206 40)) 0) (remainder 206 40) (gcd (remainder 40 (remainder 206 40))) (remainder (remainder 206 40) (remainder 40 (remainder 206 40)))) ;XX\n",
    "\n",
    "(if (= 4 0) (remainder 206 40) (gcd (remainder 40 (remainder 206 40)) (remainder (remainder 206 40) (remainder 40 (remainder 206 40)))))\n",
    "\n",
    "(gcd (remainder 40 (remainder 206 40)) (remainder (remainder 206 40) (remainder 40 (remainder 206 40)))\n",
    "     \n",
    "(if (= (remainder (remainder 206 40) (remainder 40 (remainder 206 40))) 0) (remainder 40 (remainder 206 40)) (gcd (remainder (remainder 206 40) (remainder 40 (remainder 206 40))) (remainder (remainder 206 40) (remainder 40 (remainder 206 40))))) (remainder ((remainder 40 (remainder 206 40)))) )\n",
    "\n",
    "(if (= 2 0) (remainder 40 (remainder 206 40)) (gcd (remainder (remainder 206 40) (remainder 40 (remainder 206 40))) (remainder (remainder 206 40) (remainder 40 (remainder 206 40))))) (remainder ((remainder 40 (remainder 206 40)))) ;xxxx\n",
    "\n",
    ";... And one more iteration\n",
    "```\n",
    "\n",
    "Overall, It's going to be something along the lines of 1+2+4+8+4=19, with a possible off-by-one error in there. \n",
    "\n",
    "> How many remainder operations are actually performed in the normal-order evaluation of `(gcd 206 40)`? In the applicative-order evaluation?\n",
    "\n",
    "In the applicative order evaluation, we're looking at 4 remainder ops: \n",
    "\n",
    "```scheme\n",
    "(if (= 40 0) 206 (gcd 40 (remainder 206 40)))\n",
    "(gcd 40 (remainder 206 40)); X\n",
    "(gcd 40 6)\n",
    "(if (= 6 0) 40 (gcd 6 (remainder 40 6)))\n",
    "(gcd 6 (remainder 40 6)) ; X\n",
    "(gcd 6 4)\n",
    "(if (= 4 0) 6 (gcd 4 (remainder 6 4)))\n",
    "(gcd 4 (remainder 6 4)) ; X\n",
    "(gcd 4 2)\n",
    "(if (= 2 0) 4 (gcd 2 (remainder 4 2)))\n",
    "(gcd 2 (remainder 4 2)) ; X\n",
    "(gcd 2 0)\n",
    "(if (= 0 0) 2 (gcd 0 (remainder 2 0)))\n",
    "(2)\n",
    "```\n"
   ]
  },
  {
   "cell_type": "markdown",
   "metadata": {},
   "source": [
    "### Exercise 1.21.  \n",
    "\n",
    "> Use the smallest-divisor procedure to find the smallest divisor of each of the following numbers: 199, 1999, 19999."
   ]
  },
  {
   "cell_type": "code",
   "execution_count": 34,
   "metadata": {
    "collapsed": false
   },
   "outputs": [
    {
     "data": {
      "text/plain": [
       "199"
      ]
     },
     "execution_count": 34,
     "metadata": {},
     "output_type": "execute_result"
    }
   ],
   "source": [
    "(define (square n) (* n n))\n",
    "\n",
    "(define (smallest-divisor n)\n",
    "  (find-divisor n 2))\n",
    "(define (find-divisor n test-divisor)\n",
    "  (cond ((> (square test-divisor) n) n)\n",
    "        ((divides? test-divisor n) test-divisor)\n",
    "        (else (find-divisor n (+ test-divisor 1)))))\n",
    "(define (divides? a b)\n",
    "  (= (remainder b a) 0))\n",
    "\n",
    "(smallest-divisor 199)"
   ]
  },
  {
   "cell_type": "code",
   "execution_count": 35,
   "metadata": {
    "collapsed": false
   },
   "outputs": [
    {
     "data": {
      "text/plain": [
       "1999"
      ]
     },
     "execution_count": 35,
     "metadata": {},
     "output_type": "execute_result"
    }
   ],
   "source": [
    "(smallest-divisor 1999)"
   ]
  },
  {
   "cell_type": "code",
   "execution_count": 36,
   "metadata": {
    "collapsed": false
   },
   "outputs": [
    {
     "data": {
      "text/plain": [
       "7"
      ]
     },
     "execution_count": 36,
     "metadata": {},
     "output_type": "execute_result"
    }
   ],
   "source": [
    "(smallest-divisor 19999)"
   ]
  },
  {
   "cell_type": "markdown",
   "metadata": {},
   "source": [
    "###Exercise 1.22.  \n",
    "\n",
    "> Most Lisp implementations include a primitive called runtime that returns an integer that specifies the amount of time the system has been running (measured, for example, in microseconds). The following timed-prime-test procedure, when called with an integer n, prints n and checks to see if n is prime. If n is prime, the procedure prints three asterisks followed by the amount of time used in performing the test."
   ]
  },
  {
   "cell_type": "code",
   "execution_count": 29,
   "metadata": {
    "collapsed": true
   },
   "outputs": [],
   "source": [
    "(define (runtime) (current-time))\n",
    "\n",
    "(define (square x) (* x x))\n",
    "\n",
    "(define (smallest-divisor n)\n",
    "  (find-divisor n 2))\n",
    "(define (find-divisor n test-divisor)\n",
    "  (cond ((> (square test-divisor) n) n)\n",
    "        ((divides? test-divisor n) test-divisor)\n",
    "        (else (find-divisor n (+ test-divisor 1)))))\n",
    "(define (divides? a b)\n",
    "  (= (remainder b a) 0))\n",
    "\n",
    "(define (prime? n)\n",
    "  (= n (smallest-divisor n)))\n",
    "\n",
    "(define (timed-prime-test n)\n",
    "  (newline)\n",
    "  (display n)\n",
    "  (start-prime-test n (runtime)))\n",
    "\n",
    "(define (start-prime-test n start-time)\n",
    "  (if (prime? n)\n",
    "      (report-prime (- (runtime) start-time))))\n",
    "\n",
    "(define (report-prime elapsed-time)\n",
    "  (display \" *** \")\n",
    "  (display elapsed-time))"
   ]
  },
  {
   "cell_type": "markdown",
   "metadata": {},
   "source": [
    "> Using this procedure, write a procedure search-for-primes that checks the primality of consecutive odd integers in a specified range. Use your procedure to find the three smallest primes larger than 1000; larger than 10,000; larger than 100,000; larger than 1,000,000. Note the time needed to test each prime. Since the testing algorithm has order of growth of (n), you should expect that testing for primes around 10,000 should take about 10 times as long as testing for primes around 1000. Do your timing data bear this out? How well do the data for 100,000 and 1,000,000 support the n prediction? Is your result compatible with the notion that programs on your machine run in time proportional to the number of steps required for the computation?\n",
    "\n"
   ]
  },
  {
   "cell_type": "code",
   "execution_count": 30,
   "metadata": {
    "collapsed": false
   },
   "outputs": [
    {
     "name": "stdout",
     "output_type": "stream",
     "text": [
      "\n",
      "1001\n",
      "1003\n",
      "1005\n",
      "1007\n",
      "1009 *** 0.06396818161010742\n",
      "1011\n",
      "1013 *** 0.06296801567077637\n",
      "1015\n",
      "1017\n",
      "1019 *** 0.06326103210449219\n",
      "10001\n",
      "10003\n",
      "10005\n",
      "10007 *** 0.20129609107971191\n",
      "10009 *** 0.19788813591003418\n",
      "10011\n",
      "10013\n",
      "10015\n",
      "10017\n",
      "10019\n",
      "10021\n",
      "10023\n",
      "10025\n",
      "10027\n",
      "10029\n",
      "10031\n",
      "10033\n",
      "10035\n",
      "10037 *** 0.20804786682128906\n",
      "100001\n",
      "100003 *** 0.6201221942901611\n",
      "100005\n",
      "100007\n",
      "100009\n",
      "100011\n",
      "100013\n",
      "100015\n",
      "100017\n",
      "100019 *** 0.5995628833770752\n",
      "100021\n",
      "100023\n",
      "100025\n",
      "100027\n",
      "100029\n",
      "100031\n",
      "100033\n",
      "100035\n",
      "100037\n",
      "100039\n",
      "100041\n",
      "100043 *** 0.7308609485626221\n",
      "1000001\n",
      "1000003 *** 2.1958229541778564\n",
      "1000005\n",
      "1000007\n",
      "1000009\n",
      "1000011\n",
      "1000013\n",
      "1000015\n",
      "1000017\n",
      "1000019\n",
      "1000021\n",
      "1000023\n",
      "1000025\n",
      "1000027\n",
      "1000029\n",
      "1000031\n",
      "1000033 *** 1.941476821899414\n",
      "1000035\n",
      "1000037 *** 2.0203781127929688"
     ]
    },
    {
     "data": {
      "text/plain": [
       "()"
      ]
     },
     "execution_count": 30,
     "metadata": {},
     "output_type": "execute_result"
    }
   ],
   "source": [
    "(define (search-for-primes min max)\n",
    "  (cond ((even? min) (search-for-primes (+ min 1) max))\n",
    "        ((<= min max) (timed-prime-test min)\n",
    "                      (search-for-primes (+ min 2) max))))\n",
    "\n",
    "(define (search-for-n-primes n min max)\n",
    "  (cond ((= n 0) ())\n",
    "        ((even? min) (search-for-n-primes n (+ min 1) max))\n",
    "        ((<= min max) (search-for-n-primes (if (timed-prime-test min) (- n 1) n)\n",
    "                                           (+ min 2)\n",
    "                                           max))))\n",
    "\n",
    "(search-for-n-primes 3 1000 2000)\n",
    "(search-for-n-primes 3 10000 20000)\n",
    "(search-for-n-primes 3 100000 200000)\n",
    "(search-for-n-primes 3 1000000 2000000)"
   ]
  },
  {
   "cell_type": "markdown",
   "metadata": {},
   "source": [
    "On my system, as input grows by a factor of 10, the time of a primality test grows by a factor of 3. The proportion seems right, but the factor is a bit off."
   ]
  },
  {
   "cell_type": "markdown",
   "metadata": {},
   "source": [
    "### Exercise 1.23.  \n",
    "\n",
    "> The smallest-divisor procedure shown at the start of this section does lots of needless testing: After it checks to see if the number is divisible by 2 there is no point in checking to see if it is divisible by any larger even numbers. This suggests that the values used for test-divisor should not be 2, 3, 4, 5, 6, ..., but rather 2, 3, 5, 7, 9, .... To implement this change, define a procedure next that returns 3 if its input is equal to 2 and otherwise returns its input plus 2. Modify the smallest-divisor procedure to use (next test-divisor) instead of (+ test-divisor 1). With timed-prime-test incorporating this modified version of smallest-divisor, run the test for each of the 12 primes found in exercise 1.22. Since this modification halves the number of test steps, you should expect it to run about twice as fast. Is this expectation confirmed? If not, what is the observed ratio of the speeds of the two algorithms, and how do you explain the fact that it is different from 2?\n",
    "\n"
   ]
  },
  {
   "cell_type": "code",
   "execution_count": 31,
   "metadata": {
    "collapsed": false
   },
   "outputs": [
    {
     "name": "stdout",
     "output_type": "stream",
     "text": [
      "\n",
      "1001\n",
      "1003\n",
      "1005\n",
      "1007\n",
      "1009 *** 0.04062294960021973\n",
      "1011\n",
      "1013 *** 0.03954505920410156\n",
      "1015\n",
      "1017\n",
      "1019 *** 0.03811311721801758\n",
      "10001\n",
      "10003\n",
      "10005\n",
      "10007 *** 0.1220090389251709\n",
      "10009 *** 0.12073993682861328\n",
      "10011\n",
      "10013\n",
      "10015\n",
      "10017\n",
      "10019\n",
      "10021\n",
      "10023\n",
      "10025\n",
      "10027\n",
      "10029\n",
      "10031\n",
      "10033\n",
      "10035\n",
      "10037 *** 0.1247408390045166\n",
      "100001\n",
      "100003 *** 0.37892699241638184\n",
      "100005\n",
      "100007\n",
      "100009\n",
      "100011\n",
      "100013\n",
      "100015\n",
      "100017\n",
      "100019 *** 0.38378214836120605\n",
      "100021\n",
      "100023\n",
      "100025\n",
      "100027\n",
      "100029\n",
      "100031\n",
      "100033\n",
      "100035\n",
      "100037\n",
      "100039\n",
      "100041\n",
      "100043 *** 0.3870670795440674\n",
      "1000001\n",
      "1000003 *** 1.1040680408477783\n",
      "1000005\n",
      "1000007\n",
      "1000009\n",
      "1000011\n",
      "1000013\n",
      "1000015\n",
      "1000017\n",
      "1000019\n",
      "1000021\n",
      "1000023\n",
      "1000025\n",
      "1000027\n",
      "1000029\n",
      "1000031\n",
      "1000033 *** 1.310472011566162\n",
      "1000035\n",
      "1000037 *** 1.0296649932861328"
     ]
    },
    {
     "data": {
      "text/plain": [
       "()"
      ]
     },
     "execution_count": 31,
     "metadata": {},
     "output_type": "execute_result"
    }
   ],
   "source": [
    "(define (fast-smallest-divisor n)\n",
    "  (find-divisor n 2))\n",
    "\n",
    "(define (next divisor)\n",
    "  (if (= divisor 2)\n",
    "      3\n",
    "      (+ divisor 2)))\n",
    "\n",
    "(define (faster-smallest-divisor n)\n",
    "  (fast-find-divisor n 2))\n",
    "(define (fast-find-divisor n test-divisor)\n",
    "  (cond ((> (square test-divisor) n) n)\n",
    "        ((divides? test-divisor n) test-divisor)\n",
    "        (else (fast-find-divisor n (next test-divisor)))))\n",
    "\n",
    "(define (faster-search-for-n-primes n min max)\n",
    "  (cond ((= n 0) ())\n",
    "        ((even? min) (faster-search-for-n-primes n (+ min 1) max))\n",
    "        ((<= min max) (faster-search-for-n-primes (if (faster-timed-prime-test min) (- n 1) n)\n",
    "                                           (+ min 2)\n",
    "                                           max))))\n",
    "\n",
    "(define (faster-prime? n)\n",
    "  (= n (faster-smallest-divisor n)))\n",
    "\n",
    "(define (faster-timed-prime-test n)\n",
    "  (newline)\n",
    "  (display n)\n",
    "  (start-faster-prime-test n (runtime)))\n",
    "\n",
    "(define (start-faster-prime-test n start-time)\n",
    "  (if (faster-prime? n)\n",
    "      (report-prime (- (runtime) start-time))))\n",
    "\n",
    "(faster-search-for-n-primes 3 1000 2000)\n",
    "(faster-search-for-n-primes 3 10000 20000)\n",
    "(faster-search-for-n-primes 3 100000 200000)\n",
    "(faster-search-for-n-primes 3 1000000 2000000)"
   ]
  },
  {
   "cell_type": "markdown",
   "metadata": {},
   "source": [
    "With the faster divisor generation, this is running approximately 33% faster. The causes of the ratio being off could be due to the increased branching, as well as the extra overhead due to the conditional that offsets some of the gain to removing remainder operations."
   ]
  },
  {
   "cell_type": "markdown",
   "metadata": {},
   "source": [
    "### Exercise 1.24.  \n",
    "\n",
    "> Modify the timed-prime-test procedure of exercise 1.22 to use fast-prime? (the Fermat method), and test each of the 12 primes you found in that exercise. Since the Fermat test has (log n) growth, how would you expect the time to test primes near 1,000,000 to compare with the time needed to test primes near 1000? Do your data bear this out? Can you explain any discrepancy you find?\n",
    "\n"
   ]
  },
  {
   "cell_type": "code",
   "execution_count": 32,
   "metadata": {
    "collapsed": false
   },
   "outputs": [],
   "source": [
    "(import-from \"random\" \"randint\")\n",
    "(define (random n) (randint 0 n))\n",
    "\n",
    "(define (square x) (* x x))\n",
    "\n",
    "(define (expmod base exp m)\n",
    "  (cond ((= exp 0) 1)\n",
    "        ((even? exp)\n",
    "         (remainder (square (expmod base (/ exp 2) m))\n",
    "                    m))\n",
    "        (else\n",
    "         (remainder (* base (expmod base (- exp 1) m))\n",
    "                    m))))        \n",
    "\n",
    "(define (fast-prime? n times)\n",
    "  (cond ((= times 0) #t)\n",
    "        ((fermat-test n) (fast-prime? n (- times 1)))\n",
    "        (else #f)))\n",
    "\n",
    "(define (fermat-test n)\n",
    "  (define (try-it a)\n",
    "    (= (expmod a n n) a))\n",
    "  (try-it (+ 1 (random (- n 1)))))\n",
    "\n"
   ]
  },
  {
   "cell_type": "code",
   "execution_count": 38,
   "metadata": {
    "collapsed": false
   },
   "outputs": [],
   "source": [
    "(define (fast-search-for-n-primes n min max)\n",
    "  (cond ((= n 0) ())\n",
    "        ((even? min) (fast-search-for-n-primes n (+ min 1) max))\n",
    "        ((<= min max) (fast-search-for-n-primes (if (fast-timed-prime-test min) (- n 1) n)\n",
    "                                           (+ min 2)\n",
    "                                           max))))\n",
    "\n",
    "(define (fast-timed-prime-test n)\n",
    "  (newline)\n",
    "  (display n)\n",
    "  (start-fast-prime-test n (runtime)))\n",
    "\n",
    "(define (start-fast-prime-test n start-time)\n",
    "  (if (fast-prime? n 10)\n",
    "      (report-prime (- (runtime) start-time))))"
   ]
  },
  {
   "cell_type": "code",
   "execution_count": 39,
   "metadata": {
    "collapsed": false
   },
   "outputs": [
    {
     "name": "stdout",
     "output_type": "stream",
     "text": [
      "\n",
      "1001\n",
      "1003\n",
      "1005\n",
      "1007\n",
      "1009 *** 0.3277778625488281\n",
      "1011\n",
      "1013 *** 0.30010104179382324\n",
      "1015\n",
      "1017\n",
      "1019 *** 0.3619370460510254\n",
      "10001\n",
      "10003\n",
      "10005\n",
      "10007 *** 0.415269136428833\n",
      "10009 *** 0.35755300521850586\n",
      "10011\n",
      "10013\n",
      "10015\n",
      "10017\n",
      "10019\n",
      "10021\n",
      "10023\n",
      "10025\n",
      "10027\n",
      "10029\n",
      "10031\n",
      "10033\n",
      "10035\n",
      "10037 *** 0.33718013763427734\n",
      "100001\n",
      "100003 *** 0.4488658905029297\n",
      "100005\n",
      "100007\n",
      "100009\n",
      "100011\n",
      "100013\n",
      "100015\n",
      "100017\n",
      "100019 *** 0.39661502838134766\n",
      "100021\n",
      "100023\n",
      "100025\n",
      "100027\n",
      "100029\n",
      "100031\n",
      "100033\n",
      "100035\n",
      "100037\n",
      "100039\n",
      "100041\n",
      "100043 *** 0.8728611469268799\n",
      "1000001\n",
      "1000003 *** 0.47367000579833984\n",
      "1000005\n",
      "1000007\n",
      "1000009\n",
      "1000011\n",
      "1000013\n",
      "1000015\n",
      "1000017\n",
      "1000019\n",
      "1000021\n",
      "1000023\n",
      "1000025\n",
      "1000027\n",
      "1000029\n",
      "1000031\n",
      "1000033 *** 0.4546999931335449\n",
      "1000035\n",
      "1000037 *** 0.49996495246887207"
     ]
    },
    {
     "data": {
      "text/plain": [
       "()"
      ]
     },
     "execution_count": 39,
     "metadata": {},
     "output_type": "execute_result"
    }
   ],
   "source": [
    "(fast-search-for-n-primes 3 1000 2000)\n",
    "(fast-search-for-n-primes 3 10000 20000)\n",
    "(fast-search-for-n-primes 3 100000 200000)\n",
    "(fast-search-for-n-primes 3 1000000 2000000)"
   ]
  },
  {
   "cell_type": "markdown",
   "metadata": {},
   "source": [
    "With Logarithmic growth, I'd expect that testing a number ~1000 timex larger would take ~3 times longer. In reality, it's taking about 10% longer."
   ]
  },
  {
   "cell_type": "markdown",
   "metadata": {},
   "source": [
    "### Exercise 1.25.  \n",
    "\n",
    "> Alyssa P. Hacker complains that we went to a lot of extra work in writing expmod. After all, she says, since we already know how to compute exponentials, we could have simply written\n",
    "> ```scheme\n",
    "(define (expmod base exp m)\n",
    "  (remainder (fast-expt base exp) m))\n",
    "```\n",
    "> Is she correct? Would this procedure serve as well for our fast prime tester? Explain.\n",
    "\n",
    "For numbers-of-nontrivial-size, the major problem with this operation is that it will need some handling as numbers get large (as they do after repeated exponentiation).  Either the exponentiation will get slower as numbers get larger, or it will become imprecise and therefore incorrect. Doing the operation modulo m will bound the growth of the intermediate steps."
   ]
  },
  {
   "cell_type": "markdown",
   "metadata": {},
   "source": [
    "### Exercise 1.26.  \n",
    "\n",
    "> Louis Reasoner is having great difficulty doing exercise 1.24. His fast-prime? test seems to run more slowly than his prime? test. Louis calls his friend Eva Lu Ator over to help. When they examine Louis's code, they find that he has rewritten the expmod procedure to use an explicit multiplication, rather than calling square:\n",
    "\n",
    ">```scheme\n",
    "(define (expmod base exp m)\n",
    "  (cond ((= exp 0) 1)\n",
    "        ((even? exp)\n",
    "         (remainder (* (expmod base (/ exp 2) m)\n",
    "                       (expmod base (/ exp 2) m))\n",
    "                    m))\n",
    "        (else\n",
    "         (remainder (* base (expmod base (- exp 1) m))\n",
    "                    m))))\n",
    "```\n",
    "> \"I don't see what difference that could make,\" says Louis. \"I do.\" says Eva. \"By writing the procedure like that, you have transformed the $\\theta(\\log n)$ process into a $\\theta(n)$ process.\" Explain."
   ]
  },
  {
   "cell_type": "markdown",
   "metadata": {},
   "source": [
    "Using square, a single recursive call is made, log-n times. Using the explicit multiplication, the recursion is tree-shaped, with the breadth of the tree doubling with respect to it's log-n depth. The runtime then becomes $\\theta(log (2^n)) = \\theta(n)$"
   ]
  },
  {
   "cell_type": "markdown",
   "metadata": {},
   "source": [
    "### Exercise 1.27.  \n",
    "\n",
    "Demonstrate that the Carmichael numbers listed in footnote 47 really do fool the Fermat test. That is, write a procedure that takes an integer $n$ and tests whether $a^n$ is congruent to $a$ modulo $n$ for every $a<n$, and try your procedure on the given Carmichael numbers."
   ]
  },
  {
   "cell_type": "code",
   "execution_count": 46,
   "metadata": {
    "collapsed": false
   },
   "outputs": [
    {
     "data": {
      "text/plain": [
       "#t"
      ]
     },
     "execution_count": 46,
     "metadata": {},
     "output_type": "execute_result"
    }
   ],
   "source": [
    "; 561, 1105, 1729, 2465, 2821, and 6601\n",
    "\n",
    "(define (is-cong-all n)\n",
    "  (define (cong-test r a n)\n",
    "    (cond ((= r #f) #f)\n",
    "          ((>= a n) #t)\n",
    "          (else (cong-test (= (expmod a n n) (expmod a 1 n)) (+ a 1) n))))\n",
    "  \n",
    "  (cong-test #t 2 n)\n",
    "  )\n",
    "\n",
    "(is-cong-all 561)\n"
   ]
  },
  {
   "cell_type": "code",
   "execution_count": 47,
   "metadata": {
    "collapsed": false
   },
   "outputs": [
    {
     "data": {
      "text/plain": [
       "#t"
      ]
     },
     "execution_count": 47,
     "metadata": {},
     "output_type": "execute_result"
    }
   ],
   "source": [
    "(is-cong-all 1105)"
   ]
  },
  {
   "cell_type": "markdown",
   "metadata": {},
   "source": [
    "### Exercise 1.28.  \n",
    "\n",
    "One variant of the Fermat test that cannot be fooled is called the Miller-Rabin test (Miller 1976; Rabin 1980). This starts from an alternate form of Fermat's Little Theorem, which states that if $n$ is a prime number and $a$ is any positive integer less than $n$, then $a$ raised to the $(n - 1)$st power is congruent to 1 modulo $n$. To test the primality of a number $n$ by the Miller-Rabin test, we pick a random number $a<n$ and raise a to the $(n - 1)$st power modulo n using the `expmod` procedure. However, whenever we perform the squaring step in expmod, we check to see if we have discovered a \"nontrivial square root of 1 modulo n,\" that is, a number not equal to 1 or n - 1 whose square is equal to 1 modulo n. It is possible to prove that if such a nontrivial square root of 1 exists, then $n$ is not prime. It is also possible to prove that if $n$ is an odd number that is not prime, then, for at least half the numbers $a<n$, computing $a^{n-1}$ in this way will reveal a nontrivial square root of 1 modulo $n$. (This is why the Miller-Rabin test cannot be fooled.) Modify the expmod procedure to signal if it discovers a nontrivial square root of 1, and use this to implement the Miller-Rabin test with a procedure analogous to fermat-test. Check your procedure by testing various known primes and non-primes. Hint: One convenient way to make expmod signal is to have it return 0.\n",
    "\n"
   ]
  },
  {
   "cell_type": "code",
   "execution_count": 50,
   "metadata": {
    "collapsed": true
   },
   "outputs": [],
   "source": [
    "\n",
    "(define (miller-rabin-expmod base exp m)\n",
    "  (define (non-trivial-remainder x)\n",
    "    (cond ((= (remainder x m) 1) 1)\n",
    "          ((= (remainder x m) (- m 1)) (- m 1))\n",
    "          ((= (expmod x 2 m) 1) 0)\n",
    "          (else (remainder x m))))\n",
    "  (cond ((= exp 0) 1)\n",
    "        ((even? exp)\n",
    "         (non-trivial-remainder (square (miller-rabin-expmod base (/ exp 2) m))))\n",
    "        (else\n",
    "         (remainder (* base (miller-rabin-expmod base (- exp 1) m))\n",
    "                    m))))        \n",
    "\n"
   ]
  },
  {
   "cell_type": "code",
   "execution_count": 55,
   "metadata": {
    "collapsed": false
   },
   "outputs": [
    {
     "data": {
      "text/plain": [
       "#t"
      ]
     },
     "execution_count": 55,
     "metadata": {},
     "output_type": "execute_result"
    }
   ],
   "source": [
    "(define (miller-prime? n times)\n",
    "  (cond ((= times 0) #t)\n",
    "        ((miller-test n) (miller-prime? n (- times 1)))\n",
    "        (else #f)))\n",
    "\n",
    "(define (miller-test n)\n",
    "  (define (try-it a)\n",
    "    (= (miller-rabin-expmod a n n) a))\n",
    "  (try-it (+ 1 (random (- n 1)))))\n",
    "\n",
    "(miller-prime? 89 10)\n"
   ]
  },
  {
   "cell_type": "code",
   "execution_count": 56,
   "metadata": {
    "collapsed": false
   },
   "outputs": [
    {
     "data": {
      "text/plain": [
       "#f"
      ]
     },
     "execution_count": 56,
     "metadata": {},
     "output_type": "execute_result"
    }
   ],
   "source": [
    "(miller-prime? 1105 10)"
   ]
  },
  {
   "cell_type": "code",
   "execution_count": 57,
   "metadata": {
    "collapsed": false
   },
   "outputs": [
    {
     "data": {
      "text/plain": [
       "#f"
      ]
     },
     "execution_count": 57,
     "metadata": {},
     "output_type": "execute_result"
    }
   ],
   "source": [
    "(miller-prime? 6601 10)"
   ]
  },
  {
   "cell_type": "code",
   "execution_count": 58,
   "metadata": {
    "collapsed": false
   },
   "outputs": [
    {
     "data": {
      "text/plain": [
       "#t"
      ]
     },
     "execution_count": 58,
     "metadata": {},
     "output_type": "execute_result"
    }
   ],
   "source": [
    "(miller-prime? 761 10)"
   ]
  },
  {
   "cell_type": "code",
   "execution_count": null,
   "metadata": {
    "collapsed": true
   },
   "outputs": [],
   "source": []
  }
 ],
 "metadata": {
  "kernelspec": {
   "display_name": "Calysto Scheme 3",
   "language": "scheme",
   "name": "calysto_scheme"
  },
  "language_info": {
   "codemirror_mode": {
    "name": "scheme"
   },
   "mimetype": "text/x-scheme",
   "name": "scheme",
   "pygments_lexer": "scheme"
  }
 },
 "nbformat": 4,
 "nbformat_minor": 0
}
