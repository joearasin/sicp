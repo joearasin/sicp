{
 "cells": [
  {
   "cell_type": "markdown",
   "metadata": {},
   "source": [
    "### Exercise 1.1.\n",
    "\n",
    "> Below is a sequence of expressions. What is the result printed by the interpreter in response to each expression? Assume that the sequence is to be evaluated in the order in which it is presented.\n",
    "\n",
    "> `10`\n",
    "\n",
    "10\n",
    "\n",
    "> `(+ 5 3 4)`\n",
    "\n",
    "12\n",
    "\n",
    "> `(- 9 1)`\n",
    "\n",
    "8\n",
    "\n",
    "> `(/ 6 2)`\n",
    "\n",
    "3\n",
    "\n",
    "> `(+ (* 2 4) (- 4 6))`\n",
    "\n",
    "10\n",
    "\n",
    ">```scheme\n",
    "(define a 3)\n",
    "(define b (+ a 1))\n",
    "(+ a b (* a b))\n",
    "```\n",
    "\n",
    "19\n",
    "\n",
    "\n",
    "> `(= a b)`\n",
    "\n",
    "\\#f\n",
    "\n",
    ">```scheme\n",
    "(if (and (> b a) (< b (* a b)))\n",
    "    b\n",
    "    a)\n",
    "```\n",
    "\n",
    "4\n",
    "\n",
    ">```scheme\n",
    "(cond ((= a 4) 6)\n",
    "      ((= b 4) (+ 6 7 a))\n",
    "      (else 25))\n",
    "```\n",
    "\n",
    "16\n",
    "\n",
    ">`(+ 2 (if (> b a) b a))`\n",
    "\n",
    "6\n",
    "\n",
    ">```scheme\n",
    "(* (cond ((> a b) a)\n",
    "         ((< a b) b)\n",
    "         (else -1))\n",
    "   (+ a 1))\n",
    "```\n",
    "\n",
    "16\n",
    "\n"
   ]
  },
  {
   "cell_type": "markdown",
   "metadata": {},
   "source": [
    "### Exercise 1.2.\n",
    "\n",
    "> Translate the following expression into prefix form\n",
    "> \n",
    "> $$\\frac{5 + 4 + \\left(2 - \\left(3 - \\left(6 + \\frac{4}{5}\\right)\\right)\\right)}{3\\left(6-2\\right)\\left(2-7\\right)}$$"
   ]
  },
  {
   "cell_type": "code",
   "execution_count": 1,
   "metadata": {
    "collapsed": false
   },
   "outputs": [
    {
     "data": {
      "text/plain": [
       "-37/150"
      ]
     },
     "execution_count": 1,
     "metadata": {},
     "output_type": "execute_result"
    }
   ],
   "source": [
    "(/ (+ 5\n",
    "      4\n",
    "      (- 2\n",
    "         (- 3 \n",
    "            (+ 6 (/ 4 5)))))\n",
    "   (* 3 \n",
    "      (- 6 2)\n",
    "      (- 2 7)))"
   ]
  },
  {
   "cell_type": "markdown",
   "metadata": {},
   "source": [
    "### Exercise 1.3.  \n",
    "\n",
    "> Define a procedure that takes three numbers as arguments and returns the sum of the squares of the two larger numbers."
   ]
  },
  {
   "cell_type": "code",
   "execution_count": 2,
   "metadata": {
    "collapsed": true
   },
   "outputs": [],
   "source": [
    "(define (square x) \n",
    "  (* x x))\n",
    "\n",
    "(define (sumSquare x y) (+ (square x) (square y)))\n",
    "\n",
    "(define (sumSquareMax x y z)\n",
    "  (cond ((and (<= x y) (<= x z)) (sumSquare y z))\n",
    "        ((and (<= y x) (<= y z)) (sumSquare x z))\n",
    "        ((and (<= z x) (<= z y)) (sumSquare x y))))"
   ]
  },
  {
   "cell_type": "markdown",
   "metadata": {},
   "source": [
    "### Exercise 1.4.  \n",
    "\n",
    "> Observe that our model of evaluation allows for combinations whose operators are compound expressions. Use this observation to describe the behavior of the following procedure:\n",
    "> \n",
    "> ```scheme\n",
    "> (define (a-plus-abs-b a b)\n",
    ">   ((if (> b 0) + -) a b))\n",
    "> ```\n",
    "\n",
    "Defines a function that takes two values. If the latter is positive, adds the two. Otherwise, subtracts the latter from the former."
   ]
  },
  {
   "cell_type": "markdown",
   "metadata": {},
   "source": [
    "### Exercise 1.5.  \n",
    "\n",
    ">Ben Bitdiddle has invented a test to determine whether the interpreter he is faced with is using applicative-order evaluation or normal-order evaluation. He defines the following two procedures:\n",
    ">\n",
    ">```scheme\n",
    ">(define (p) (p))\n",
    ">\n",
    ">(define (test x y)\n",
    ">  (if (= x 0)\n",
    ">      0\n",
    ">      y))\n",
    "> ```\n",
    "> Then he evaluates the expression\n",
    "> \n",
    "> ```scheme\n",
    "> (test 0 (p))\n",
    "> ```\n",
    "> \n",
    "> What behavior will Ben observe with an interpreter that uses applicative-order evaluation? What behavior will he observe with an interpreter that uses normal-order evaluation? Explain your answer. (Assume that the evaluation rule for the special form if is the same whether the interpreter is using normal or applicative order: The predicate expression is evaluated first, and the result determines whether to evaluate the consequent or the alternative expression.)\n",
    "\n",
    "With applicative order evaluation, Ben will observe endless recursion, as the arguments will be evaluated before the contents. With normal-order evaluation, 0 will be returned, as the infinite recursion is short-circuited."
   ]
  },
  {
   "cell_type": "markdown",
   "metadata": {},
   "source": [
    "### Exercise 1.6.  \n",
    "\n",
    "> Alyssa P. Hacker doesn't see why if needs to be provided as a special form. \"Why can't I just define it as an ordinary procedure in terms of cond?\" she asks. Alyssa's friend Eva Lu Ator claims this can indeed be done, and she defines a new version of if:\n",
    "> \n",
    "> ```scheme\n",
    "> (define (new-if predicate then-clause else-clause)\n",
    ">   (cond (predicate then-clause)\n",
    ">         (else else-clause)))\n",
    "> ```\n",
    "> \n",
    "> Eva demonstrates the program for Alyssa:\n",
    "> \n",
    "> ``` scheme\n",
    "> (new-if (= 2 3) 0 5)\n",
    "> 5\n",
    "> ```\n",
    "> \n",
    "> ```scheme \n",
    "> (new-if (= 1 1) 0 5)\n",
    "> 0\n",
    "> ```\n",
    "> \n",
    "> Delighted, Alyssa uses new-if to rewrite the square-root program:\n",
    ">\n",
    "> ```scheme\n",
    ">  (define (sqrt-iter guess x)\n",
    ">    (new-if (good-enough? guess x)\n",
    ">            guess\n",
    ">            (sqrt-iter (improve guess x)\n",
    ">                       x)))\n",
    "> ```\n",
    "\n",
    "> What happens when Alyssa attempts to use this to compute square roots? Explain.\n",
    "\n",
    "It will recurse infinitely, because the recursive call gets evaluated before the new-if procedure resolves."
   ]
  },
  {
   "cell_type": "markdown",
   "metadata": {},
   "source": [
    "### Exercise 1.7.  \n",
    "\n",
    "> The good-enough? test used in computing square roots will not be very effective for finding the square roots of very small numbers. Also, in real computers, arithmetic operations are almost always performed with limited precision. This makes our test inadequate for very large numbers. Explain these statements, with examples showing how the test fails for small and large numbers. An alternative strategy for implementing good-enough? is to watch how guess changes from one iteration to the next and to stop when the change is a very small fraction of the guess. Design a square-root procedure that uses this kind of end test. Does this work better for small and large numbers?\n",
    "\n",
    "For very small numbers, the problem is that the tolerance may actually be larger than the number itself, and the algorithm doesn't run enough iterations to converge.\n",
    "\n",
    "\n"
   ]
  },
  {
   "cell_type": "code",
   "execution_count": 4,
   "metadata": {
    "collapsed": true
   },
   "outputs": [],
   "source": [
    "(define (sqrt-iter guess x)\n",
    "  (if (good-enough? guess x)\n",
    "      guess\n",
    "      (sqrt-iter (improve guess x)\n",
    "                 x)))\n",
    "\n",
    "(define (improve guess k)\n",
    "  (average guess (/ k guess)))\n",
    "\n",
    "(define (average x y)\n",
    "  (/ (+ x y) 2.0))\n",
    "\n",
    "(define (good-enough? guess x)\n",
    "  (< (abs (- (square guess) x)) 0.001))\n",
    "\n",
    "(define (sqrt x)\n",
    "  (sqrt-iter 1.0 x))"
   ]
  },
  {
   "cell_type": "code",
   "execution_count": 5,
   "metadata": {
    "collapsed": false
   },
   "outputs": [
    {
     "data": {
      "text/plain": [
       "0.03125106561775382"
      ]
     },
     "execution_count": 5,
     "metadata": {},
     "output_type": "execute_result"
    }
   ],
   "source": [
    "(sqrt .0000001)"
   ]
  },
  {
   "cell_type": "code",
   "execution_count": 6,
   "metadata": {
    "collapsed": false
   },
   "outputs": [
    {
     "data": {
      "text/plain": [
       "0.03125010656242753"
      ]
     },
     "execution_count": 6,
     "metadata": {},
     "output_type": "execute_result"
    }
   ],
   "source": [
    "(sqrt .00000001)"
   ]
  },
  {
   "cell_type": "markdown",
   "metadata": {},
   "source": [
    "For Large numbers, there might not be enough precision in the data structure, and the algorithm will never converge."
   ]
  },
  {
   "cell_type": "code",
   "execution_count": 7,
   "metadata": {
    "collapsed": true
   },
   "outputs": [],
   "source": [
    ";(sqrt 1000000000000000000000000000000000000000000000000000)"
   ]
  },
  {
   "cell_type": "code",
   "execution_count": 8,
   "metadata": {
    "collapsed": true
   },
   "outputs": [],
   "source": [
    "(define (sqrt-iter2 oldguess guess x)\n",
    "  (if (good-enough2? oldguess guess x)\n",
    "      guess\n",
    "      (sqrt-iter2 guess (improve guess x)\n",
    "                 x)))\n",
    "\n",
    "(define (good-enough2? guess oldguess x)\n",
    "  (< (/ (abs (- guess oldguess)) guess) 0.0001))\n",
    "\n",
    "(define (sqrt2 x)\n",
    "  (sqrt-iter2 2.0 1.0 x))"
   ]
  },
  {
   "cell_type": "code",
   "execution_count": 9,
   "metadata": {
    "collapsed": false
   },
   "outputs": [
    {
     "data": {
      "text/plain": [
       "3.1622776601683795e+25"
      ]
     },
     "execution_count": 9,
     "metadata": {},
     "output_type": "execute_result"
    }
   ],
   "source": [
    "(sqrt2 1000000000000000000000000000000000000000000000000000)"
   ]
  },
  {
   "cell_type": "code",
   "execution_count": 10,
   "metadata": {
    "collapsed": false
   },
   "outputs": [
    {
     "data": {
      "text/plain": [
       "1.0000000015603234e-05"
      ]
     },
     "execution_count": 10,
     "metadata": {},
     "output_type": "execute_result"
    }
   ],
   "source": [
    "(sqrt2 .0000000001)"
   ]
  },
  {
   "cell_type": "markdown",
   "metadata": {},
   "source": [
    "### Exercise 1.8\n",
    "\n",
    "> Newton's method for cube roots is based on the fact that if y is an approximation to the cube root of x, then a better approximation is given by the value\n",
    "> $$\\frac{x/y^2 + 2 y}{3}$$\n",
    "> Use this formula to implement a cube-root procedure analogous to the square-root procedure. "
   ]
  },
  {
   "cell_type": "code",
   "execution_count": 11,
   "metadata": {
    "collapsed": true
   },
   "outputs": [],
   "source": [
    "(define (cbrt-iter oldguess guess x)\n",
    "  (if (good-enough2? oldguess guess x)\n",
    "      guess\n",
    "      (cbrt-iter guess (improve-cube guess x)\n",
    "                 x)))\n",
    "\n",
    "(define (improve-cube y x)\n",
    "  (/ (+ (/ x (square y))\n",
    "        (* 2 y)) \n",
    "     3))\n",
    "\n",
    "(define (cbrt x)\n",
    "  (cbrt-iter 1.0 2.0 x))"
   ]
  },
  {
   "cell_type": "code",
   "execution_count": 12,
   "metadata": {
    "collapsed": false
   },
   "outputs": [
    {
     "data": {
      "text/plain": [
       "5.000000000008378"
      ]
     },
     "execution_count": 12,
     "metadata": {},
     "output_type": "execute_result"
    }
   ],
   "source": [
    "(cbrt 125)"
   ]
  },
  {
   "cell_type": "code",
   "execution_count": null,
   "metadata": {
    "collapsed": true
   },
   "outputs": [],
   "source": []
  }
 ],
 "metadata": {
  "kernelspec": {
   "display_name": "Calysto Scheme 3",
   "language": "scheme",
   "name": "calysto_scheme"
  },
  "language_info": {
   "codemirror_mode": {
    "name": "scheme"
   },
   "mimetype": "text/x-scheme",
   "name": "scheme",
   "pygments_lexer": "scheme"
  }
 },
 "nbformat": 4,
 "nbformat_minor": 0
}
