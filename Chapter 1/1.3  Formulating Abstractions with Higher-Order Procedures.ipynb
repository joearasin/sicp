{
 "cells": [
  {
   "cell_type": "markdown",
   "metadata": {},
   "source": [
    "### Exercise 1.29.  \n",
    "\n",
    "> Simpson's Rule is a more accurate method of numerical integration than the method illustrated above. Using Simpson's Rule, the integral of a function f between a and b is approximated as\n",
    "> $$ \\frac{h}{3}[y_0+4y_1+2y_2+4y_3+2y_4+\\cdots+2y_{n-1}+4y_{n-1}+y_n]$$\n",
    "> where $h = (b - a)/n$, for some even integer $n$, and $y_k = f(a + kh)$. (Increasing n increases the accuracy of the approximation.) Define a procedure that takes as arguments f, a, b, and n and returns the value of the integral, computed using Simpson's Rule. Use your procedure to integrate cube between 0 and 1 (with n = 100 and n = 1000), and compare the results to those of the integral procedure shown above.\n"
   ]
  },
  {
   "cell_type": "code",
   "execution_count": 7,
   "metadata": {
    "collapsed": false
   },
   "outputs": [
    {
     "data": {
      "text/plain": [
       "1/4"
      ]
     },
     "execution_count": 7,
     "metadata": {},
     "output_type": "execute_result"
    }
   ],
   "source": [
    "(define (cube x) (* x x x))\n",
    "\n",
    "\n",
    "(define (sum term a next b)\n",
    "  (if (> a b)\n",
    "      0\n",
    "      (+ (term a)\n",
    "         (sum term (next a) next b))))\n",
    "\n",
    "(define (integral f a b n)\n",
    "  (define (h)\n",
    "    (/ (- b a) n))\n",
    "  (define (y k)\n",
    "    (f (+ a (* k (h)))))\n",
    "  (define (plustwo n) (+ n 2))\n",
    "  (* (/ (h) 3)\n",
    "     (+ (y 0)\n",
    "        (y n)\n",
    "        (* 2 (sum y 2 plustwo (- n 2)))\n",
    "        (* 4 (sum y 1 plustwo (- n 1))))))\n",
    "           \n",
    "           \n",
    "(integral cube 0 1 100)\n"
   ]
  },
  {
   "cell_type": "code",
   "execution_count": 8,
   "metadata": {
    "collapsed": false
   },
   "outputs": [
    {
     "data": {
      "text/plain": [
       "1/4"
      ]
     },
     "execution_count": 8,
     "metadata": {},
     "output_type": "execute_result"
    }
   ],
   "source": [
    "(integral cube 0 1 1000)"
   ]
  },
  {
   "cell_type": "markdown",
   "metadata": {},
   "source": [
    "### Exercise 1.30.  \n",
    "\n",
    "The sum procedure above generates a linear recursion. The procedure can be rewritten so that the sum is performed iteratively. Show how to do this by filling in the missing expressions in the following definition:\n",
    "\n",
    "```\n",
    "(define (sum term a next b)\n",
    "  (define (iter a result)\n",
    "    (if <??>\n",
    "        <??>\n",
    "        (iter <??> <??>)))\n",
    "  (iter <??> <??>))\n",
    "```\n"
   ]
  },
  {
   "cell_type": "code",
   "execution_count": 50,
   "metadata": {
    "collapsed": true
   },
   "outputs": [],
   "source": [
    "(define (sumi term a next b)\n",
    "  (define (iter a result)\n",
    "    (if (> a b)\n",
    "        result\n",
    "        (iter (next a) (+ result (term a)))))\n",
    "  (iter a 0))"
   ]
  },
  {
   "cell_type": "markdown",
   "metadata": {},
   "source": [
    "### Exercise 1.31.   \n",
    "\n",
    ">The sum procedure is only the simplest of a vast number of similar abstractions that can be captured as higher-order procedures. Write an analogous procedure called product that returns the product of the values of a function at points over a given range. \n",
    "\n",
    "\n"
   ]
  },
  {
   "cell_type": "code",
   "execution_count": 51,
   "metadata": {
    "collapsed": false
   },
   "outputs": [],
   "source": [
    "(define (prod term a next b)\n",
    "  (if (> a b)\n",
    "      1\n",
    "      (* (term a)\n",
    "         (prod term (next a) next b))))"
   ]
  },
  {
   "cell_type": "markdown",
   "metadata": {},
   "source": [
    "> Show how to define factorial in terms of product. "
   ]
  },
  {
   "cell_type": "code",
   "execution_count": 52,
   "metadata": {
    "collapsed": false
   },
   "outputs": [],
   "source": [
    "(define (fact n) \n",
    "  (define (ident n) n)\n",
    "  (define (inc n) (+ n 1))\n",
    "  (prod ident 1 inc n))\n"
   ]
  },
  {
   "cell_type": "markdown",
   "metadata": {},
   "source": [
    "> Also use product to compute approximations to  using the formula\n",
    "> $$ \\frac{\\pi}{4}=\\frac{2\\cdot4\\cdot4\\cdot6\\cdot6\\cdot8\\cdots}{3\\cdot3\\cdot5\\cdot5\\cdot7\\cdot7\\cdots}$$\n",
    "\n",
    "\n"
   ]
  },
  {
   "cell_type": "code",
   "execution_count": 53,
   "metadata": {
    "collapsed": false
   },
   "outputs": [
    {
     "data": {
      "text/plain": [
       "3.1570301764551676"
      ]
     },
     "execution_count": 53,
     "metadata": {},
     "output_type": "execute_result"
    }
   ],
   "source": [
    "(define (pi-prod n)\n",
    "  (define (odd-pi-term x)\n",
    "    (/ (+ x 1) (+ x 2)))\n",
    "  (define (even-pi-term x)\n",
    "    (/ (+ x 2) (+ x 1)))\n",
    "  (define (plustwo x) (+ x 2))\n",
    "  (* (prod odd-pi-term 1 plustwo n)\n",
    "     (prod even-pi-term 2 plustwo n)\n",
    "     4))\n",
    "\n",
    "(+ 0.0 (pi-prod 100))\n"
   ]
  },
  {
   "cell_type": "markdown",
   "metadata": {},
   "source": [
    "> If your product procedure generates a recursive process, write one that generates an iterative process. If it generates an iterative process, write one that generates a recursive process.\n"
   ]
  },
  {
   "cell_type": "code",
   "execution_count": 54,
   "metadata": {
    "collapsed": true
   },
   "outputs": [],
   "source": [
    "(define (prodi term a next b)\n",
    "  (define (iter a result)\n",
    "    (if (> a b)\n",
    "        result\n",
    "        (iter (next a) (* result (term a)))))\n",
    "  (iter a 1))"
   ]
  },
  {
   "cell_type": "code",
   "execution_count": 63,
   "metadata": {
    "collapsed": false
   },
   "outputs": [
    {
     "data": {
      "text/plain": [
       "3.1431607055322663"
      ]
     },
     "execution_count": 63,
     "metadata": {},
     "output_type": "execute_result"
    }
   ],
   "source": [
    "(define (pi-prodi n)\n",
    "  (define (odd-pi-term x)\n",
    "    (/ (+ x 1) (+ x 2)))\n",
    "  (define (even-pi-term x)\n",
    "    (/ (+ x 2) (+ x 1)))\n",
    "  (define (plustwo x) (+ x 2))\n",
    "  (* (prodi odd-pi-term 1 plustwo n)\n",
    "     (prodi even-pi-term 2 plustwo n)\n",
    "     4))\n",
    "\n",
    "(+ 0.0 (pi-prodi 1000))\n",
    " "
   ]
  },
  {
   "cell_type": "markdown",
   "metadata": {},
   "source": [
    "### Exercise 1.32.\n",
    "\n",
    "> a. Show that sum and product (exercise 1.31) are both special cases of a still more general notion called accumulate that combines a collection of terms, using some general accumulation function:\n",
    "> \n",
    "> `(accumulate combiner null-value term a next b)`\n",
    "> \n",
    "> Accumulate takes as arguments the same term and range specifications as sum and product, together with a combiner procedure (of two arguments) that specifies how the current term is to be combined with the accumulation of the preceding terms and a null-value that specifies what base value to use when the terms run out. Write accumulate and show how sum and product can both be defined as simple calls to accumulate.\n",
    "\n"
   ]
  },
  {
   "cell_type": "code",
   "execution_count": 69,
   "metadata": {
    "collapsed": true
   },
   "outputs": [],
   "source": [
    "(define (accumulate combiner null-value term a next b)\n",
    "    (if (> a b)\n",
    "      null-value\n",
    "      (combiner (term a)\n",
    "         (accumulate combiner null-value term (next a) next b))))"
   ]
  },
  {
   "cell_type": "code",
   "execution_count": 72,
   "metadata": {
    "collapsed": false
   },
   "outputs": [],
   "source": [
    "(define (sum-acc term a next b)\n",
    "  (accumulate + 0 term a next b))\n",
    "\n",
    "(define (prod-acc term a next b)\n",
    "  (accumulate * 1 term a next b))"
   ]
  },
  {
   "cell_type": "markdown",
   "metadata": {},
   "source": [
    "> If your accumulate procedure generates a recursive process, write one that generates an iterative process. If it generates an iterative process, write one that generates a recursive process."
   ]
  },
  {
   "cell_type": "code",
   "execution_count": 75,
   "metadata": {
    "collapsed": false
   },
   "outputs": [],
   "source": [
    "(define (accumulatei combiner null-value term a next b)\n",
    "  (define (iter a result)\n",
    "    (if (> a b)\n",
    "        result\n",
    "        (iter (next a) (combiner result (term a)))))\n",
    "  (iter a null-value))"
   ]
  },
  {
   "cell_type": "markdown",
   "metadata": {},
   "source": [
    "### Exercise 1.33.  \n",
    "\n",
    "> You can obtain an even more general version of accumulate (exercise 1.32) by introducing the notion of a filter on the terms to be combined. That is, combine only those terms derived from values in the range that satisfy a specified condition. The resulting filtered-accumulate abstraction takes the same arguments as accumulate, together with an additional predicate of one argument that specifies the filter. Write filtered-accumulate as a procedure.\n"
   ]
  },
  {
   "cell_type": "code",
   "execution_count": 79,
   "metadata": {
    "collapsed": true
   },
   "outputs": [],
   "source": [
    "(define (filtered-accumulate combiner null-value term a next b filter)\n",
    "    (if (> a b)\n",
    "      null-value\n",
    "      (combiner (if (filter a) (term a) null-value)\n",
    "         (filtered-accumulate combiner null-value term (next a) next b filter))))"
   ]
  },
  {
   "cell_type": "markdown",
   "metadata": {},
   "source": [
    "> Show how to express the following using filtered-accumulate\n",
    "> the sum of the squares of the prime numbers in the interval a to b (assuming that you have a prime? predicate already written)"
   ]
  },
  {
   "cell_type": "code",
   "execution_count": 83,
   "metadata": {
    "collapsed": false
   },
   "outputs": [],
   "source": [
    "(define (square x) (* x x))\n",
    "\n",
    "(define (smallest-divisor n)\n",
    "  (find-divisor n 2))\n",
    "(define (find-divisor n test-divisor)\n",
    "  (cond ((> (square test-divisor) n) n)\n",
    "        ((divides? test-divisor n) test-divisor)\n",
    "        (else (find-divisor n (+ test-divisor 1)))))\n",
    "(define (divides? a b)\n",
    "  (= (remainder b a) 0))\n",
    "\n",
    "(define (prime? n)\n",
    "  (= n (smallest-divisor n)))\n",
    "\n",
    "(define (square n)\n",
    "  (* n n))\n",
    "\n",
    "(define (sum-square-prime a b)\n",
    "    (filtered-accumulate + 0 square a inc b prime?))"
   ]
  },
  {
   "cell_type": "markdown",
   "metadata": {},
   "source": [
    "> the product of all the positive integers less than n that are relatively prime to n (i.e., all positive integers i < n such that GCD(i,n) = 1)."
   ]
  },
  {
   "cell_type": "code",
   "execution_count": 90,
   "metadata": {
    "collapsed": false
   },
   "outputs": [],
   "source": [
    "(define (gcd a b)\n",
    "  (if (= b 0)\n",
    "      a\n",
    "      (gcd b (remainder a b))))\n",
    "\n",
    "(define (relprime a b)\n",
    "  (= 1 (gcd a b)))\n",
    "\n",
    "(define (prod-pos-rel-p n)\n",
    "  (define (filt a) (relprime n a))\n",
    "  (filtered-accumulate * 1 ident 1 inc n filt))"
   ]
  },
  {
   "cell_type": "markdown",
   "metadata": {},
   "source": [
    "### Exercise 1.34.  \n",
    "\n",
    "> Suppose we define the procedure\n",
    "\n",
    "> ```scheme \n",
    "(define (f g)\n",
    "  (g 2))\n",
    "```\n",
    "> Then we have\n",
    "> ```scheme\n",
    "(f square)\n",
    "4\n",
    "(f (lambda (z) (* z (+ z 1))))\n",
    "6\n",
    "```\n",
    "\n",
    "> What happens if we (perversely) ask the interpreter to evaluate the combination (f f)? Explain.\n",
    "\n",
    "\n",
    "The evaluation ends up looking something like:\n",
    "\n",
    "```scheme\n",
    "(f f)\n",
    "(f 2)\n",
    "(2 2) ; error\n",
    "```\n"
   ]
  },
  {
   "cell_type": "markdown",
   "metadata": {
    "collapsed": true
   },
   "source": [
    "### Exercise 1.35.  \n",
    "\n",
    "> Show that the golden ratio $\\phi$ is a fixed point of the transformation $x \\rightarrow 1 + 1/x$ , and use this fact to compute $\\phi$ by means of the fixed-point procedure.\n",
    "\n",
    "$$1 + \\frac{1}{\\frac{1+\\sqrt 5}{2}} = 1 + \\frac{2}{1+\\sqrt 5}=\\frac{1+\\sqrt 5 + 2}{1 + \\sqrt 5} = \\frac{3+\\sqrt 5}{1+\\sqrt 5}=\\frac{(3+\\sqrt 5)(1-\\sqrt 5)}{-4}=\\frac{3-2\\sqrt 5 - 5}{-4}=\\frac{-2-2\\sqrt 5}{-4}=\\frac{1+\\sqrt 5}{2}$$"
   ]
  },
  {
   "cell_type": "code",
   "execution_count": 17,
   "metadata": {
    "collapsed": true
   },
   "outputs": [],
   "source": [
    "(define tolerance 0.00001)\n",
    "(define (fixed-point f first-guess)\n",
    "  (define (close-enough? v1 v2)\n",
    "    (< (abs (- v1 v2)) tolerance))\n",
    "  (define (t guess)\n",
    "    (let ((next (f guess)))\n",
    "      (if (close-enough? guess next)\n",
    "          next\n",
    "          (t next))))\n",
    "  (t first-guess))"
   ]
  },
  {
   "cell_type": "code",
   "execution_count": 19,
   "metadata": {
    "collapsed": false
   },
   "outputs": [
    {
     "data": {
      "text/plain": [
       "1.6180327868852458"
      ]
     },
     "execution_count": 19,
     "metadata": {},
     "output_type": "execute_result"
    }
   ],
   "source": [
    "(fixed-point (lambda (x) (+ 1.0 (/ 1.0 x))) 1 )"
   ]
  },
  {
   "cell_type": "markdown",
   "metadata": {},
   "source": [
    "### Exercise 1.36.  \n",
    "\n",
    "> Modify fixed-point so that it prints the sequence of approximations it generates, using the newline and display primitives shown in exercise 1.22. \n",
    "\n",
    "\n"
   ]
  },
  {
   "cell_type": "code",
   "execution_count": 33,
   "metadata": {
    "collapsed": false
   },
   "outputs": [],
   "source": [
    "(define (fixed-point-prt f first-guess)\n",
    "  (define (prt-guess n)\n",
    "    (newline)\n",
    "    (display n))\n",
    "  (define (close-enough? v1 v2)\n",
    "    (< (abs (- v1 v2)) tolerance))\n",
    "  (define (t guess)\n",
    "    (prt-guess guess)\n",
    "    (let ((next (f guess)))\n",
    "      (if (close-enough? guess next)\n",
    "          next\n",
    "          (t next))))\n",
    "  (t first-guess))\n"
   ]
  },
  {
   "cell_type": "markdown",
   "metadata": {},
   "source": [
    "> Then find a solution to $x^x = 1000$ by finding a fixed point of $x \\rightarrow \\log(1000)/\\log(x)$. (Use Scheme's primitive log procedure, which computes natural logarithms.) Compare the number of steps this takes with and without average damping. (Note that you cannot start fixed-point with a guess of 1, as this would cause division by log(1) = 0.)\n",
    "\n"
   ]
  },
  {
   "cell_type": "code",
   "execution_count": 32,
   "metadata": {
    "collapsed": false
   },
   "outputs": [
    {
     "name": "stdout",
     "output_type": "stream",
     "text": [
      "\n",
      "1.5\n",
      "17.036620761802716\n",
      "2.436284152826871\n",
      "7.7573914048784065\n",
      "3.3718636013068974\n",
      "5.683217478018266\n",
      "3.97564638093712\n",
      "5.004940305230897\n",
      "4.2893976408423535\n",
      "4.743860707684508\n",
      "4.437003894526853\n",
      "4.6361416205906485\n",
      "4.503444951269147\n",
      "4.590350549476868\n",
      "4.532777517802648\n",
      "4.570631779772813\n",
      "4.545618222336422\n",
      "4.562092653795064\n",
      "4.551218723744055\n",
      "4.558385805707352\n",
      "4.553657479516671\n",
      "4.55677495241968\n",
      "4.554718702465183\n",
      "4.556074615314888\n",
      "4.555180352768613\n",
      "4.555770074687025\n",
      "4.555381152108018\n",
      "4.555637634081652\n",
      "4.555468486740348\n",
      "4.555580035270157\n",
      "4.555506470667713\n",
      "4.555554984963888\n",
      "4.5555229906097905\n",
      "4.555544090254035\n",
      "4.555530175417048"
     ]
    },
    {
     "data": {
      "text/plain": [
       "4.555539351985717"
      ]
     },
     "execution_count": 32,
     "metadata": {},
     "output_type": "execute_result"
    }
   ],
   "source": [
    "(import-from \"math\" \"log\")\n",
    "\n",
    "(fixed-point-prt (lambda (x) (/ (log 1000) (log x))) 1.5)"
   ]
  },
  {
   "cell_type": "code",
   "execution_count": 35,
   "metadata": {
    "collapsed": false
   },
   "outputs": [
    {
     "name": "stdout",
     "output_type": "stream",
     "text": [
      "\n",
      "1.5\n",
      "9.268310380901358\n",
      "6.185343522487719\n",
      "4.988133688461795\n",
      "4.643254620420954\n",
      "4.571101497091747\n",
      "4.5582061760763715\n",
      "4.555990975858476\n",
      "4.555613236666653\n",
      "4.555548906156018\n",
      "4.555537952796512"
     ]
    },
    {
     "data": {
      "text/plain": [
       "4.555536087870658"
      ]
     },
     "execution_count": 35,
     "metadata": {},
     "output_type": "execute_result"
    }
   ],
   "source": [
    "(define (average x y) (+ (/ x 2) (/ y 2)))\n",
    "(fixed-point-prt (lambda (x) (average x (/ (log 1000) (log x)))) 1.5)"
   ]
  },
  {
   "cell_type": "markdown",
   "metadata": {},
   "source": [
    "### Exercise 1.37. \n",
    "\n",
    "> An infinite continued fraction is an expression of the form $$f=\\frac{N_1}{D_1+\\frac{N_2}{D_2+\\frac{N_3}{D_3+\\cdots}}}$$\n",
    "> As an example, one can show that the infinite continued fraction expansion with the $N_i$ and the $D_i$ all equal to 1 produces $1/\\phi$, where  is the golden ratio (described in section 1.2.2). One way to approximate an infinite continued fraction is to truncate the expansion after a given number of terms. Such a truncation -- a so-called k-term finite continued fraction -- has the form $$\\frac{N_1}{D_1+\\frac{N_2}{\\ddots+\\frac{N_K}{D_K}}}$$\n",
    "> Suppose that n and d are procedures of one argument (the term index i) that return the $N_i$ and $D_i$ of the terms of the continued fraction. Define a procedure cont-frac such that evaluating `(cont-frac n d k)` computes the value of the k-term finite continued fraction. \n",
    "\n",
    "\n",
    "\n"
   ]
  },
  {
   "cell_type": "code",
   "execution_count": 45,
   "metadata": {
    "collapsed": true
   },
   "outputs": [],
   "source": [
    "(define (cont-frac n d k)\n",
    "  (define (rec i)\n",
    "    (/ (n i)\n",
    "       (+ (d i) \n",
    "          (if (= i k)\n",
    "              0\n",
    "              (rec (+ i 1))))))\n",
    "  (rec 1))"
   ]
  },
  {
   "cell_type": "markdown",
   "metadata": {},
   "source": [
    "> Check your procedure by approximating $1/\\phi$ using\n",
    "> \n",
    "```scheme\n",
    "(cont-frac (lambda (i) 1.0)\n",
    "           (lambda (i) 1.0)\n",
    "           k)\n",
    "```\n",
    "> for successive values of k. How large must you make k in order to get an approximation that is accurate to 4 decimal places?"
   ]
  },
  {
   "cell_type": "code",
   "execution_count": 44,
   "metadata": {
    "collapsed": false
   },
   "outputs": [
    {
     "data": {
      "text/plain": [
       "0.625"
      ]
     },
     "execution_count": 44,
     "metadata": {},
     "output_type": "execute_result"
    }
   ],
   "source": [
    "(cont-frac (lambda (i) 1.0)\n",
    "           (lambda (i) 1.0)\n",
    "           5)"
   ]
  },
  {
   "cell_type": "code",
   "execution_count": 46,
   "metadata": {
    "collapsed": false
   },
   "outputs": [
    {
     "data": {
      "text/plain": [
       "0.6179775280898876"
      ]
     },
     "execution_count": 46,
     "metadata": {},
     "output_type": "execute_result"
    }
   ],
   "source": [
    "(cont-frac (lambda (i) 1.0)\n",
    "           (lambda (i) 1.0)\n",
    "           10)"
   ]
  },
  {
   "cell_type": "code",
   "execution_count": 43,
   "metadata": {
    "collapsed": false
   },
   "outputs": [
    {
     "data": {
      "text/plain": [
       "0.6180555555555556"
      ]
     },
     "execution_count": 43,
     "metadata": {},
     "output_type": "execute_result"
    }
   ],
   "source": [
    "(cont-frac (lambda (i) 1.0)\n",
    "           (lambda (i) 1.0)\n",
    "           11)"
   ]
  },
  {
   "cell_type": "markdown",
   "metadata": {},
   "source": [
    "> If your cont-frac procedure generates a recursive process, write one that generates an iterative process. If it generates an iterative process, write one that generates a recursive process."
   ]
  },
  {
   "cell_type": "code",
   "execution_count": 49,
   "metadata": {
    "collapsed": false
   },
   "outputs": [],
   "source": [
    "(define (cont-frac-iter n d k)\n",
    "  (define (iter result i)\n",
    "    (if (< i 1)\n",
    "        result\n",
    "        (iter (/ (n i) (+ (d i) result)) (- i 1))))\n",
    "        \n",
    "  (iter 0 k))"
   ]
  },
  {
   "cell_type": "code",
   "execution_count": 51,
   "metadata": {
    "collapsed": false
   },
   "outputs": [
    {
     "data": {
      "text/plain": [
       "0.6180555555555556"
      ]
     },
     "execution_count": 51,
     "metadata": {},
     "output_type": "execute_result"
    }
   ],
   "source": [
    "(cont-frac-iter (lambda (i) 1.0)\n",
    "                (lambda (i) 1.0)\n",
    "                11)"
   ]
  },
  {
   "cell_type": "markdown",
   "metadata": {},
   "source": [
    "### Exercise 1.38.  \n",
    "\n",
    "> In 1737, the Swiss mathematician Leonhard Euler published a memoir De Fractionibus Continuis, which included a continued fraction expansion for $e - 2$, where $e$ is the base of the natural logarithms. In this fraction, the $N_i$ are all 1, and the $D_i$ are successively 1, 2, 1, 1, 4, 1, 1, 6, 1, 1, 8, .... Write a program that uses your cont-frac procedure from exercise 1.37 to approximate e, based on Euler's expansion.\n"
   ]
  },
  {
   "cell_type": "code",
   "execution_count": 63,
   "metadata": {
    "collapsed": false
   },
   "outputs": [
    {
     "data": {
      "text/plain": [
       "2.718281828470584"
      ]
     },
     "execution_count": 63,
     "metadata": {},
     "output_type": "execute_result"
    }
   ],
   "source": [
    "(define (e-est) \n",
    "  (+ 2 (cont-frac-iter (lambda (i) 1)\n",
    "                       (lambda (d) (if (= 2 (% d 3))\n",
    "                                       (* 2 (/ (+ d 1) 3))\n",
    "                                       1.0))\n",
    "                       15)))\n",
    "\n",
    "(e-est)\n",
    "                                       "
   ]
  },
  {
   "cell_type": "markdown",
   "metadata": {},
   "source": [
    "### Exercise 1.39.  \n",
    "\n",
    "> A continued fraction representation of the tangent function was published in 1770 by the German mathematician J.H. Lambert: $$ \\tan x = \\frac{x}{1 - \\frac{x^2}{3-\\frac{x^2}{5-\\ddots}}}$$\n",
    "> where x is in radians. Define a procedure `(tan-cf x k)` that computes an approximation to the tangent function based on Lambert's formula. K specifies the number of terms to compute, as in exercise 1.37.\n",
    "\n",
    "\n"
   ]
  },
  {
   "cell_type": "code",
   "execution_count": 71,
   "metadata": {
    "collapsed": false
   },
   "outputs": [],
   "source": [
    "(define (tan-cf x k)\n",
    "  (cont-frac-iter (lambda (i) (if (= i 1.0)\n",
    "                                  x\n",
    "                                  (- (* x x))))\n",
    "                  (lambda (i) (- (* 2 i) 1.0))\n",
    "                  k))"
   ]
  },
  {
   "cell_type": "markdown",
   "metadata": {},
   "source": [
    "### Exercise 1.40.  \n",
    "\n",
    "> Define a procedure cubic that can be used together with the newtons-method procedure in expressions of the form\n",
    "> ```(newtons-method (cubic a b c) 1)```\n",
    "> to approximate zeros of the cubic $x^3 + ax^2 + bx + c$.\n",
    "\n"
   ]
  },
  {
   "cell_type": "code",
   "execution_count": 80,
   "metadata": {
    "collapsed": false
   },
   "outputs": [],
   "source": [
    "(define (deriv g)\n",
    "  (lambda (x)\n",
    "    (/ (- (g (+ x dx)) (g x))\n",
    "       dx)))\n",
    "\n",
    "(define dx 0.00001)\n",
    "\n",
    "(define (newton-transform g)\n",
    "  (lambda (x)\n",
    "    (- x (/ (g x) ((deriv g) x)))))\n",
    "\n",
    "(define (newtons-method g guess)\n",
    "  (fixed-point (newton-transform g) guess))\n",
    "\n",
    "(define (cubic a b c)\n",
    "  (lambda (x)\n",
    "      (+ (* x x x)\n",
    "         (* a x x)\n",
    "         (* b x)\n",
    "         c)))\n"
   ]
  },
  {
   "cell_type": "markdown",
   "metadata": {},
   "source": [
    "### Exercise 1.41.  \n",
    "\n",
    "> Define a procedure double that takes a procedure of one argument as argument and returns a procedure that applies the original procedure twice. For example, if inc is a procedure that adds 1 to its argument, then `(double inc)` should be a procedure that adds 2. "
   ]
  },
  {
   "cell_type": "code",
   "execution_count": 82,
   "metadata": {
    "collapsed": false
   },
   "outputs": [
    {
     "data": {
      "text/plain": [
       "4"
      ]
     },
     "execution_count": 82,
     "metadata": {},
     "output_type": "execute_result"
    }
   ],
   "source": [
    "(define (double x)\n",
    "  (lambda (k) (x (x k))))\n",
    "\n",
    "(define (inc x) (+ x 1))\n",
    "\n",
    "((double inc) 2)"
   ]
  },
  {
   "cell_type": "markdown",
   "metadata": {},
   "source": [
    "> What value is returned by `(((double (double double)) inc) 5)`"
   ]
  },
  {
   "cell_type": "code",
   "execution_count": 83,
   "metadata": {
    "collapsed": false
   },
   "outputs": [
    {
     "data": {
      "text/plain": [
       "21"
      ]
     },
     "execution_count": 83,
     "metadata": {},
     "output_type": "execute_result"
    }
   ],
   "source": [
    "(((double (double double)) inc) 5)"
   ]
  },
  {
   "cell_type": "markdown",
   "metadata": {},
   "source": [
    "### Exercise 1.42. \n",
    "\n",
    "> Let f and g be two one-argument functions. The composition f after g is defined to be the function $x\\rightarrow f(g(x))$. Define a procedure compose that implements composition. For example, if inc is a procedure that adds 1 to its argument, \n",
    "> ```scheme\n",
    "((compose square inc) 6)\n",
    "49\n",
    "```\n"
   ]
  },
  {
   "cell_type": "code",
   "execution_count": 89,
   "metadata": {
    "collapsed": false
   },
   "outputs": [
    {
     "data": {
      "text/plain": [
       "49"
      ]
     },
     "execution_count": 89,
     "metadata": {},
     "output_type": "execute_result"
    }
   ],
   "source": [
    "(define (square x) (* x x))\n",
    "(define (compose f g) (lambda (x) (f (g x))))\n",
    "\n",
    "((compose square inc) 6)"
   ]
  },
  {
   "cell_type": "markdown",
   "metadata": {},
   "source": [
    "### Exercise 1.43. \n",
    "\n",
    "> If $f$ is a numerical function and $n$ is a positive integer, then we can form the $n$th repeated application of $f$, which is defined to be the function whose value at $x$ is $f(f(\\ldots(f(x))\\ldots))$. For example, if $f$ is the function $x\\rightarrow x + 1$, then the $n$th repeated application of $f$ is the function $x\\rightarrow x + n$. If $f$ is the operation of squaring a number, then the $n$th repeated application of $f$ is the function that raises its argument to the $2^n$th power. Write a procedure that takes as inputs a procedure that computes $f$ and a positive integer $n$ and returns the procedure that computes the $n$th repeated application of $f$. Your procedure should be able to be used as follows:\n",
    "```scheme\n",
    "((repeated square 2) 5)\n",
    "625\n",
    "```\n"
   ]
  },
  {
   "cell_type": "code",
   "execution_count": 92,
   "metadata": {
    "collapsed": true
   },
   "outputs": [],
   "source": [
    "(define (repeated f n)\n",
    "  (if (= n 1)\n",
    "      f\n",
    "      (compose (repeated f (- n 1)) f)))"
   ]
  },
  {
   "cell_type": "markdown",
   "metadata": {},
   "source": [
    "### Exercise 1.44.  \n",
    "\n",
    "> The idea of smoothing a function is an important concept in signal processing. If $f$ is a function and $dx$ is some small number, then the smoothed version of $f$ is the function whose value at a point $x$ is the average of $f(x - dx)$, $f(x)$, and $f(x + dx)$. Write a procedure `smooth` that takes as input a procedure that computes $f$ and returns a procedure that computes the smoothed $f$. "
   ]
  },
  {
   "cell_type": "code",
   "execution_count": 103,
   "metadata": {
    "collapsed": false
   },
   "outputs": [],
   "source": [
    "(define (smooth f) \n",
    "  (lambda (x)\n",
    "    (+ (/ (f (- x dx)) 3)\n",
    "       (/ (f x) 3)\n",
    "       (/ (f (+ x dx)) 3))))"
   ]
  },
  {
   "cell_type": "markdown",
   "metadata": {},
   "source": [
    ">It is sometimes valuable to repeatedly smooth a function (that is, smooth the smoothed function, and so on) to obtained the n-fold smoothed function.  Show how to generate the n-fold smoothed function of any given function using smooth and repeated from exercise 1.43.\n",
    "\n"
   ]
  },
  {
   "cell_type": "code",
   "execution_count": 107,
   "metadata": {
    "collapsed": true
   },
   "outputs": [],
   "source": [
    "(define (n-fold-smooth f n)\n",
    "  ((repeated smooth n) f))"
   ]
  },
  {
   "cell_type": "markdown",
   "metadata": {},
   "source": [
    "### Exercise 1.45.  \n",
    "\n",
    "> We saw in section 1.3.3 that attempting to compute square roots by naively finding a fixed point of $y \\rightarrow x/y$ does not converge, and that this can be fixed by average damping. The same method works for finding cube roots as fixed points of the average-damped $y\\rightarrow x/y^2$. Unfortunately, the process does not work for fourth roots -- a single average damp is not enough to make a fixed-point search for $y\\rightarrow  x/y^3$ converge. On the other hand, if we average damp twice (i.e., use the average damp of the average damp of $y\\rightarrow x/y^3$) the fixed-point search does converge. \n",
    "\n",
    "> Do some experiments to determine how many average damps are required to compute $n$th roots as a fixed-point search based upon repeated average damping of $y\\rightarrow x/y^{n-1}$. \n",
    "\n",
    ">Use this to implement a simple procedure for computing nth roots using fixed-point, average-damp, and the repeated procedure of exercise 1.43. Assume that any arithmetic operations you need are available as primitives.\n",
    "\n"
   ]
  },
  {
   "cell_type": "code",
   "execution_count": 119,
   "metadata": {
    "collapsed": false
   },
   "outputs": [
    {
     "data": {
      "text/plain": [
       "10.000002544054729"
      ]
     },
     "execution_count": 119,
     "metadata": {},
     "output_type": "execute_result"
    }
   ],
   "source": [
    "(define (average-damp f)\n",
    "  (lambda (x) (average x (f x))))\n",
    "\n",
    "(define (fixed-point-of-transform g transform guess)\n",
    "  (fixed-point (transform g) guess))\n",
    "\n",
    "(define (cbrt x)\n",
    "  (fixed-point-of-transform (lambda (y) (/ x (square y)))\n",
    "                            average-damp\n",
    "                            1.0))\n",
    "\n",
    "(cbrt 1000) ; works\n"
   ]
  },
  {
   "cell_type": "code",
   "execution_count": 137,
   "metadata": {
    "collapsed": false
   },
   "outputs": [
    {
     "data": {
      "text/plain": [
       "5.623413251903491"
      ]
     },
     "execution_count": 137,
     "metadata": {},
     "output_type": "execute_result"
    }
   ],
   "source": [
    "(define (fourth-root x)\n",
    "  (fixed-point-of-transform (lambda (y) (/ x (pow y 3)))\n",
    "                            (repeated average-damp 2)\n",
    "                            1.0))\n",
    "\n",
    "(fourth-root 1000) ; works"
   ]
  },
  {
   "cell_type": "code",
   "execution_count": 138,
   "metadata": {
    "collapsed": false
   },
   "outputs": [
    {
     "data": {
      "text/plain": [
       "9.99999869212542"
      ]
     },
     "execution_count": 138,
     "metadata": {},
     "output_type": "execute_result"
    }
   ],
   "source": [
    "(define (fifth-root x)\n",
    "  (fixed-point-of-transform (lambda (y) (/ x (pow y 4)))\n",
    "                            (repeated average-damp 2)\n",
    "                            1.0))\n",
    "\n",
    "(fifth-root 100000) ; works"
   ]
  },
  {
   "cell_type": "code",
   "execution_count": 128,
   "metadata": {
    "collapsed": false
   },
   "outputs": [
    {
     "data": {
      "text/plain": [
       "4.641591147676662"
      ]
     },
     "execution_count": 128,
     "metadata": {},
     "output_type": "execute_result"
    }
   ],
   "source": [
    "(define (sixth-root x)\n",
    "  (fixed-point-of-transform (lambda (y) (/ x (* y y y y y)))\n",
    "                            (repeated average-damp 2)\n",
    "                            1.0))\n",
    "\n",
    "(sixth-root 10000) ; works"
   ]
  },
  {
   "cell_type": "code",
   "execution_count": 139,
   "metadata": {
    "collapsed": false
   },
   "outputs": [
    {
     "data": {
      "text/plain": [
       "1.1040857488809646"
      ]
     },
     "execution_count": 139,
     "metadata": {},
     "output_type": "execute_result"
    }
   ],
   "source": [
    "(define (seventh-root x)\n",
    "  (fixed-point-of-transform (lambda (y) (/ x (pow y 6)))\n",
    "                            (repeated average-damp 2)\n",
    "                            1.0))\n",
    "\n",
    "(seventh-root 2) ; works"
   ]
  },
  {
   "cell_type": "code",
   "execution_count": 140,
   "metadata": {
    "collapsed": false
   },
   "outputs": [
    {
     "data": {
      "text/plain": [
       "6.13237563517304"
      ]
     },
     "execution_count": 140,
     "metadata": {},
     "output_type": "execute_result"
    }
   ],
   "source": [
    "(define (eighth-root x)\n",
    "  (fixed-point-of-transform (lambda (y) (/ x (pow y 7)))\n",
    "                            (repeated average-damp 3)\n",
    "                            1.0))\n",
    "\n",
    "(eighth-root 2000000) ; works"
   ]
  },
  {
   "cell_type": "code",
   "execution_count": 141,
   "metadata": {
    "collapsed": false
   },
   "outputs": [
    {
     "data": {
      "text/plain": [
       "2.630688324520184"
      ]
     },
     "execution_count": 141,
     "metadata": {},
     "output_type": "execute_result"
    }
   ],
   "source": [
    "(define (fifteenth-root x)\n",
    "  (fixed-point-of-transform (lambda (y) (/ x (pow y 14)))\n",
    "                            (repeated average-damp 3)\n",
    "                            1.0))\n",
    "\n",
    "(fifteenth-root 2000000) ; works"
   ]
  },
  {
   "cell_type": "code",
   "execution_count": 143,
   "metadata": {
    "collapsed": false
   },
   "outputs": [
    {
     "data": {
      "text/plain": [
       "2.4763633891604453"
      ]
     },
     "execution_count": 143,
     "metadata": {},
     "output_type": "execute_result"
    }
   ],
   "source": [
    "(define (sixteenth-root x)\n",
    "  (fixed-point-of-transform (lambda (y) (/ x (pow y 15)))\n",
    "                            (repeated average-damp 4)\n",
    "                            1.0))\n",
    "\n",
    "(sixteenth-root 2000000) ; works"
   ]
  },
  {
   "cell_type": "markdown",
   "metadata": {},
   "source": [
    "It appears the floor of $log_2 (n)$ is the necessary number of dampings."
   ]
  },
  {
   "cell_type": "code",
   "execution_count": 161,
   "metadata": {
    "collapsed": false
   },
   "outputs": [],
   "source": [
    "(import-from \"math\" \"floor\")\n",
    "\n",
    "(define (floorlog n) (floor (/ (log n) (log 2))))\n",
    "\n",
    "(define (nth-root x n)\n",
    "  (fixed-point-of-transform (lambda (y) (/ x (pow y (- n 1))))\n",
    "                            (repeated average-damp (floorlog n))\n",
    "                            1.0))"
   ]
  },
  {
   "cell_type": "markdown",
   "metadata": {},
   "source": [
    "### Exercise 1.46.  \n",
    "\n",
    "> Several of the numerical methods described in this chapter are instances of an extremely general computational strategy known as iterative improvement. Iterative improvement says that, to compute something, we start with an initial guess for the answer, test if the guess is good enough, and otherwise improve the guess and continue the process using the improved guess as the new guess. Write a procedure `iterative-improve` that takes two procedures as arguments: a method for telling whether a guess is good enough and a method for improving a guess. `Iterative-improve` should return as its value a procedure that takes a guess as argument and keeps improving the guess until it is good enough. \n",
    "\n",
    "\n",
    "\n"
   ]
  },
  {
   "cell_type": "code",
   "execution_count": 180,
   "metadata": {
    "collapsed": true
   },
   "outputs": [],
   "source": [
    "(define (iterative-improve good-enough? improve)\n",
    "  (define (t guess)\n",
    "    (if (good-enough? guess)\n",
    "        guess\n",
    "        (t (improve guess))))\n",
    "  (lambda (x) (t x)))"
   ]
  },
  {
   "cell_type": "markdown",
   "metadata": {},
   "source": [
    "> Rewrite the sqrt procedure of section 1.1.7 and the fixed-point procedure of section 1.3.3 in terms of iterative-improve."
   ]
  },
  {
   "cell_type": "code",
   "execution_count": 191,
   "metadata": {
    "collapsed": true
   },
   "outputs": [],
   "source": [
    "(define (sqrt-ii x) \n",
    "  ((iterative-improve (lambda (g) (< (abs (- (square g) x)) 0.001))\n",
    "                     (lambda (g) (average g (/ x g))))\n",
    "   1.0))"
   ]
  },
  {
   "cell_type": "code",
   "execution_count": 192,
   "metadata": {
    "collapsed": false
   },
   "outputs": [
    {
     "data": {
      "text/plain": [
       "10.000000000139897"
      ]
     },
     "execution_count": 192,
     "metadata": {},
     "output_type": "execute_result"
    }
   ],
   "source": [
    "(sqrt-ii 100)"
   ]
  },
  {
   "cell_type": "code",
   "execution_count": 194,
   "metadata": {
    "collapsed": true
   },
   "outputs": [],
   "source": [
    "(define (fixed-point-ii f first-guess)\n",
    "    ((iterative-improve (lambda (g) (< (abs (- (f g) g)) tolerance)) f) first-guess))"
   ]
  },
  {
   "cell_type": "code",
   "execution_count": 200,
   "metadata": {
    "collapsed": false
   },
   "outputs": [
    {
     "data": {
      "text/plain": [
       "1.6180371352785146"
      ]
     },
     "execution_count": 200,
     "metadata": {},
     "output_type": "execute_result"
    }
   ],
   "source": [
    "(fixed-point-ii (lambda (x) (+ 1.0 (/ 1.0 x))) 1 )"
   ]
  }
 ],
 "metadata": {
  "kernelspec": {
   "display_name": "Calysto Scheme 3",
   "language": "scheme",
   "name": "calysto_scheme"
  },
  "language_info": {
   "codemirror_mode": {
    "name": "scheme"
   },
   "mimetype": "text/x-scheme",
   "name": "scheme",
   "pygments_lexer": "scheme"
  }
 },
 "nbformat": 4,
 "nbformat_minor": 0
}
